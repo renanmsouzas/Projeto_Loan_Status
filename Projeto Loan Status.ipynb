{
 "cells": [
  {
   "cell_type": "code",
   "execution_count": 1,
   "id": "76c57c18",
   "metadata": {},
   "outputs": [],
   "source": [
    "# manipulação de dados\n",
    "import pandas as pd\n",
    "import sidetable as stb\n",
    "import numpy as np\n",
    "from ydata_profiling import ProfileReport\n",
    "\n",
    "# análise gráfica\n",
    "import matplotlib.pyplot as plt\n",
    "import seaborn as sns\n",
    "\n",
    "# modelagem\n",
    "from sklearn.preprocessing import OneHotEncoder\n",
    "from sklearn.model_selection import train_test_split\n",
    "from sklearn import tree\n",
    "import category_encoders as ce\n",
    "from sklearn.ensemble import RandomForestClassifier\n",
    "from sklearn.linear_model import LogisticRegression\n",
    "from sklearn.neighbors import KNeighborsClassifier\n",
    "\n",
    "# métricas\n",
    "from sklearn.metrics import accuracy_score, f1_score, confusion_matrix\n",
    "\n",
    "#Settings\n",
    "# pd.set_option(\"display.precision\", 2)\n",
    "# pd.set_eng_float_format(accuracy=2, use_eng_prefix=True)"
   ]
  },
  {
   "cell_type": "code",
   "execution_count": 2,
   "id": "091e1270",
   "metadata": {},
   "outputs": [],
   "source": [
    "df = pd.read_csv('credit_risk_dataset.csv')"
   ]
  },
  {
   "cell_type": "markdown",
   "id": "940bc372",
   "metadata": {},
   "source": [
    "### Entendendo as features\n",
    "- person_age = idade\n",
    "- person_income = rendimento anual\n",
    "- person_home_ownership = tem casa própria? mora de aluguel?\n",
    "- person_emp_length = quatidade de tempo de empresa (anos)\n",
    "- loan_intent = motivo do empréstimo\n",
    "- loan_grade = grau do empréstimo\n",
    "- loan_amnt = valor do empréstimo\n",
    "- loan_int_rate = taxa interna de empréstimo\n",
    "- loan_status = status do empréstimo\n",
    "- loan_percent_income = taxa do empréstimo\n",
    "- cb_person_default_on_file = histórico padrão\n",
    "- cb_preson_cred_hist_length = tamanho do histórico de empréstimo da pessoa (anos)"
   ]
  },
  {
   "cell_type": "code",
   "execution_count": 3,
   "id": "0bb501e4",
   "metadata": {},
   "outputs": [
    {
     "data": {
      "text/html": [
       "<div>\n",
       "<style scoped>\n",
       "    .dataframe tbody tr th:only-of-type {\n",
       "        vertical-align: middle;\n",
       "    }\n",
       "\n",
       "    .dataframe tbody tr th {\n",
       "        vertical-align: top;\n",
       "    }\n",
       "\n",
       "    .dataframe thead th {\n",
       "        text-align: right;\n",
       "    }\n",
       "</style>\n",
       "<table border=\"1\" class=\"dataframe\">\n",
       "  <thead>\n",
       "    <tr style=\"text-align: right;\">\n",
       "      <th></th>\n",
       "      <th>person_age</th>\n",
       "      <th>person_income</th>\n",
       "      <th>person_home_ownership</th>\n",
       "      <th>person_emp_length</th>\n",
       "      <th>loan_intent</th>\n",
       "      <th>loan_grade</th>\n",
       "      <th>loan_amnt</th>\n",
       "      <th>loan_int_rate</th>\n",
       "      <th>loan_status</th>\n",
       "      <th>loan_percent_income</th>\n",
       "      <th>cb_person_default_on_file</th>\n",
       "      <th>cb_person_cred_hist_length</th>\n",
       "    </tr>\n",
       "  </thead>\n",
       "  <tbody>\n",
       "    <tr>\n",
       "      <th>0</th>\n",
       "      <td>22</td>\n",
       "      <td>59000</td>\n",
       "      <td>RENT</td>\n",
       "      <td>123.0</td>\n",
       "      <td>PERSONAL</td>\n",
       "      <td>D</td>\n",
       "      <td>35000</td>\n",
       "      <td>16.02</td>\n",
       "      <td>1</td>\n",
       "      <td>0.59</td>\n",
       "      <td>Y</td>\n",
       "      <td>3</td>\n",
       "    </tr>\n",
       "    <tr>\n",
       "      <th>1</th>\n",
       "      <td>21</td>\n",
       "      <td>9600</td>\n",
       "      <td>OWN</td>\n",
       "      <td>5.0</td>\n",
       "      <td>EDUCATION</td>\n",
       "      <td>B</td>\n",
       "      <td>1000</td>\n",
       "      <td>11.14</td>\n",
       "      <td>0</td>\n",
       "      <td>0.10</td>\n",
       "      <td>N</td>\n",
       "      <td>2</td>\n",
       "    </tr>\n",
       "    <tr>\n",
       "      <th>2</th>\n",
       "      <td>25</td>\n",
       "      <td>9600</td>\n",
       "      <td>MORTGAGE</td>\n",
       "      <td>1.0</td>\n",
       "      <td>MEDICAL</td>\n",
       "      <td>C</td>\n",
       "      <td>5500</td>\n",
       "      <td>12.87</td>\n",
       "      <td>1</td>\n",
       "      <td>0.57</td>\n",
       "      <td>N</td>\n",
       "      <td>3</td>\n",
       "    </tr>\n",
       "    <tr>\n",
       "      <th>3</th>\n",
       "      <td>23</td>\n",
       "      <td>65500</td>\n",
       "      <td>RENT</td>\n",
       "      <td>4.0</td>\n",
       "      <td>MEDICAL</td>\n",
       "      <td>C</td>\n",
       "      <td>35000</td>\n",
       "      <td>15.23</td>\n",
       "      <td>1</td>\n",
       "      <td>0.53</td>\n",
       "      <td>N</td>\n",
       "      <td>2</td>\n",
       "    </tr>\n",
       "    <tr>\n",
       "      <th>4</th>\n",
       "      <td>24</td>\n",
       "      <td>54400</td>\n",
       "      <td>RENT</td>\n",
       "      <td>8.0</td>\n",
       "      <td>MEDICAL</td>\n",
       "      <td>C</td>\n",
       "      <td>35000</td>\n",
       "      <td>14.27</td>\n",
       "      <td>1</td>\n",
       "      <td>0.55</td>\n",
       "      <td>Y</td>\n",
       "      <td>4</td>\n",
       "    </tr>\n",
       "  </tbody>\n",
       "</table>\n",
       "</div>"
      ],
      "text/plain": [
       "   person_age  person_income person_home_ownership  person_emp_length  \\\n",
       "0          22          59000                  RENT              123.0   \n",
       "1          21           9600                   OWN                5.0   \n",
       "2          25           9600              MORTGAGE                1.0   \n",
       "3          23          65500                  RENT                4.0   \n",
       "4          24          54400                  RENT                8.0   \n",
       "\n",
       "  loan_intent loan_grade  loan_amnt  loan_int_rate  loan_status  \\\n",
       "0    PERSONAL          D      35000          16.02            1   \n",
       "1   EDUCATION          B       1000          11.14            0   \n",
       "2     MEDICAL          C       5500          12.87            1   \n",
       "3     MEDICAL          C      35000          15.23            1   \n",
       "4     MEDICAL          C      35000          14.27            1   \n",
       "\n",
       "   loan_percent_income cb_person_default_on_file  cb_person_cred_hist_length  \n",
       "0                 0.59                         Y                           3  \n",
       "1                 0.10                         N                           2  \n",
       "2                 0.57                         N                           3  \n",
       "3                 0.53                         N                           2  \n",
       "4                 0.55                         Y                           4  "
      ]
     },
     "execution_count": 3,
     "metadata": {},
     "output_type": "execute_result"
    }
   ],
   "source": [
    "df.head()"
   ]
  },
  {
   "cell_type": "markdown",
   "id": "31778a27",
   "metadata": {},
   "source": [
    "### Criando um relatório inicial com Pandas Profiling"
   ]
  },
  {
   "cell_type": "code",
   "execution_count": 4,
   "id": "c8966676",
   "metadata": {},
   "outputs": [
    {
     "data": {
      "application/vnd.jupyter.widget-view+json": {
       "model_id": "e7768982d35f42ddad810f3e7c90ae17",
       "version_major": 2,
       "version_minor": 0
      },
      "text/plain": [
       "Summarize dataset:   0%|          | 0/5 [00:00<?, ?it/s]"
      ]
     },
     "metadata": {},
     "output_type": "display_data"
    },
    {
     "data": {
      "application/vnd.jupyter.widget-view+json": {
       "model_id": "3bd7dca5e41b4533b42ce2e62ad3d3bc",
       "version_major": 2,
       "version_minor": 0
      },
      "text/plain": [
       "Generate report structure:   0%|          | 0/1 [00:00<?, ?it/s]"
      ]
     },
     "metadata": {},
     "output_type": "display_data"
    },
    {
     "data": {
      "application/vnd.jupyter.widget-view+json": {
       "model_id": "4b816be1cbd1426b9e2269c48d02a33e",
       "version_major": 2,
       "version_minor": 0
      },
      "text/plain": [
       "Render HTML:   0%|          | 0/1 [00:00<?, ?it/s]"
      ]
     },
     "metadata": {},
     "output_type": "display_data"
    },
    {
     "data": {
      "application/vnd.jupyter.widget-view+json": {
       "model_id": "b1e4bd7a6f9348d889416cd44cb03c27",
       "version_major": 2,
       "version_minor": 0
      },
      "text/plain": [
       "Export report to file:   0%|          | 0/1 [00:00<?, ?it/s]"
      ]
     },
     "metadata": {},
     "output_type": "display_data"
    }
   ],
   "source": [
    "profile = ProfileReport(df, title='Análise Empréstimo')\n",
    "profile.to_file('Análise Empréstimo.html')"
   ]
  },
  {
   "cell_type": "markdown",
   "id": "44589fcf",
   "metadata": {},
   "source": [
    "### Verificando se há valores missing e se o tipo de dado da coluna está correto"
   ]
  },
  {
   "cell_type": "code",
   "execution_count": 5,
   "id": "5482ad07",
   "metadata": {
    "scrolled": true
   },
   "outputs": [
    {
     "name": "stdout",
     "output_type": "stream",
     "text": [
      "<class 'pandas.core.frame.DataFrame'>\n",
      "RangeIndex: 32581 entries, 0 to 32580\n",
      "Data columns (total 12 columns):\n",
      " #   Column                      Non-Null Count  Dtype  \n",
      "---  ------                      --------------  -----  \n",
      " 0   person_age                  32581 non-null  int64  \n",
      " 1   person_income               32581 non-null  int64  \n",
      " 2   person_home_ownership       32581 non-null  object \n",
      " 3   person_emp_length           31686 non-null  float64\n",
      " 4   loan_intent                 32581 non-null  object \n",
      " 5   loan_grade                  32581 non-null  object \n",
      " 6   loan_amnt                   32581 non-null  int64  \n",
      " 7   loan_int_rate               29465 non-null  float64\n",
      " 8   loan_status                 32581 non-null  int64  \n",
      " 9   loan_percent_income         32581 non-null  float64\n",
      " 10  cb_person_default_on_file   32581 non-null  object \n",
      " 11  cb_person_cred_hist_length  32581 non-null  int64  \n",
      "dtypes: float64(3), int64(5), object(4)\n",
      "memory usage: 3.0+ MB\n"
     ]
    }
   ],
   "source": [
    "df.info()"
   ]
  },
  {
   "cell_type": "code",
   "execution_count": 6,
   "id": "45dbb076",
   "metadata": {},
   "outputs": [
    {
     "data": {
      "text/html": [
       "<style type=\"text/css\">\n",
       "</style>\n",
       "<table id=\"T_dcdaf\">\n",
       "  <thead>\n",
       "    <tr>\n",
       "      <th class=\"blank level0\" >&nbsp;</th>\n",
       "      <th id=\"T_dcdaf_level0_col0\" class=\"col_heading level0 col0\" >missing</th>\n",
       "      <th id=\"T_dcdaf_level0_col1\" class=\"col_heading level0 col1\" >total</th>\n",
       "      <th id=\"T_dcdaf_level0_col2\" class=\"col_heading level0 col2\" >percent</th>\n",
       "    </tr>\n",
       "  </thead>\n",
       "  <tbody>\n",
       "    <tr>\n",
       "      <th id=\"T_dcdaf_level0_row0\" class=\"row_heading level0 row0\" >loan_int_rate</th>\n",
       "      <td id=\"T_dcdaf_row0_col0\" class=\"data row0 col0\" >3,116</td>\n",
       "      <td id=\"T_dcdaf_row0_col1\" class=\"data row0 col1\" >32,581</td>\n",
       "      <td id=\"T_dcdaf_row0_col2\" class=\"data row0 col2\" >9.56%</td>\n",
       "    </tr>\n",
       "    <tr>\n",
       "      <th id=\"T_dcdaf_level0_row1\" class=\"row_heading level0 row1\" >person_emp_length</th>\n",
       "      <td id=\"T_dcdaf_row1_col0\" class=\"data row1 col0\" >895</td>\n",
       "      <td id=\"T_dcdaf_row1_col1\" class=\"data row1 col1\" >32,581</td>\n",
       "      <td id=\"T_dcdaf_row1_col2\" class=\"data row1 col2\" >2.75%</td>\n",
       "    </tr>\n",
       "    <tr>\n",
       "      <th id=\"T_dcdaf_level0_row2\" class=\"row_heading level0 row2\" >person_age</th>\n",
       "      <td id=\"T_dcdaf_row2_col0\" class=\"data row2 col0\" >0</td>\n",
       "      <td id=\"T_dcdaf_row2_col1\" class=\"data row2 col1\" >32,581</td>\n",
       "      <td id=\"T_dcdaf_row2_col2\" class=\"data row2 col2\" >0.00%</td>\n",
       "    </tr>\n",
       "    <tr>\n",
       "      <th id=\"T_dcdaf_level0_row3\" class=\"row_heading level0 row3\" >person_income</th>\n",
       "      <td id=\"T_dcdaf_row3_col0\" class=\"data row3 col0\" >0</td>\n",
       "      <td id=\"T_dcdaf_row3_col1\" class=\"data row3 col1\" >32,581</td>\n",
       "      <td id=\"T_dcdaf_row3_col2\" class=\"data row3 col2\" >0.00%</td>\n",
       "    </tr>\n",
       "    <tr>\n",
       "      <th id=\"T_dcdaf_level0_row4\" class=\"row_heading level0 row4\" >person_home_ownership</th>\n",
       "      <td id=\"T_dcdaf_row4_col0\" class=\"data row4 col0\" >0</td>\n",
       "      <td id=\"T_dcdaf_row4_col1\" class=\"data row4 col1\" >32,581</td>\n",
       "      <td id=\"T_dcdaf_row4_col2\" class=\"data row4 col2\" >0.00%</td>\n",
       "    </tr>\n",
       "    <tr>\n",
       "      <th id=\"T_dcdaf_level0_row5\" class=\"row_heading level0 row5\" >loan_intent</th>\n",
       "      <td id=\"T_dcdaf_row5_col0\" class=\"data row5 col0\" >0</td>\n",
       "      <td id=\"T_dcdaf_row5_col1\" class=\"data row5 col1\" >32,581</td>\n",
       "      <td id=\"T_dcdaf_row5_col2\" class=\"data row5 col2\" >0.00%</td>\n",
       "    </tr>\n",
       "    <tr>\n",
       "      <th id=\"T_dcdaf_level0_row6\" class=\"row_heading level0 row6\" >loan_grade</th>\n",
       "      <td id=\"T_dcdaf_row6_col0\" class=\"data row6 col0\" >0</td>\n",
       "      <td id=\"T_dcdaf_row6_col1\" class=\"data row6 col1\" >32,581</td>\n",
       "      <td id=\"T_dcdaf_row6_col2\" class=\"data row6 col2\" >0.00%</td>\n",
       "    </tr>\n",
       "    <tr>\n",
       "      <th id=\"T_dcdaf_level0_row7\" class=\"row_heading level0 row7\" >loan_amnt</th>\n",
       "      <td id=\"T_dcdaf_row7_col0\" class=\"data row7 col0\" >0</td>\n",
       "      <td id=\"T_dcdaf_row7_col1\" class=\"data row7 col1\" >32,581</td>\n",
       "      <td id=\"T_dcdaf_row7_col2\" class=\"data row7 col2\" >0.00%</td>\n",
       "    </tr>\n",
       "    <tr>\n",
       "      <th id=\"T_dcdaf_level0_row8\" class=\"row_heading level0 row8\" >loan_status</th>\n",
       "      <td id=\"T_dcdaf_row8_col0\" class=\"data row8 col0\" >0</td>\n",
       "      <td id=\"T_dcdaf_row8_col1\" class=\"data row8 col1\" >32,581</td>\n",
       "      <td id=\"T_dcdaf_row8_col2\" class=\"data row8 col2\" >0.00%</td>\n",
       "    </tr>\n",
       "    <tr>\n",
       "      <th id=\"T_dcdaf_level0_row9\" class=\"row_heading level0 row9\" >loan_percent_income</th>\n",
       "      <td id=\"T_dcdaf_row9_col0\" class=\"data row9 col0\" >0</td>\n",
       "      <td id=\"T_dcdaf_row9_col1\" class=\"data row9 col1\" >32,581</td>\n",
       "      <td id=\"T_dcdaf_row9_col2\" class=\"data row9 col2\" >0.00%</td>\n",
       "    </tr>\n",
       "    <tr>\n",
       "      <th id=\"T_dcdaf_level0_row10\" class=\"row_heading level0 row10\" >cb_person_default_on_file</th>\n",
       "      <td id=\"T_dcdaf_row10_col0\" class=\"data row10 col0\" >0</td>\n",
       "      <td id=\"T_dcdaf_row10_col1\" class=\"data row10 col1\" >32,581</td>\n",
       "      <td id=\"T_dcdaf_row10_col2\" class=\"data row10 col2\" >0.00%</td>\n",
       "    </tr>\n",
       "    <tr>\n",
       "      <th id=\"T_dcdaf_level0_row11\" class=\"row_heading level0 row11\" >cb_person_cred_hist_length</th>\n",
       "      <td id=\"T_dcdaf_row11_col0\" class=\"data row11 col0\" >0</td>\n",
       "      <td id=\"T_dcdaf_row11_col1\" class=\"data row11 col1\" >32,581</td>\n",
       "      <td id=\"T_dcdaf_row11_col2\" class=\"data row11 col2\" >0.00%</td>\n",
       "    </tr>\n",
       "  </tbody>\n",
       "</table>\n"
      ],
      "text/plain": [
       "<pandas.io.formats.style.Styler at 0x21e4f6c33a0>"
      ]
     },
     "execution_count": 6,
     "metadata": {},
     "output_type": "execute_result"
    }
   ],
   "source": [
    "df.stb.missing(style=True)"
   ]
  },
  {
   "cell_type": "markdown",
   "id": "cb404cc7",
   "metadata": {},
   "source": [
    "### Verificando informações estatísticas"
   ]
  },
  {
   "cell_type": "code",
   "execution_count": 7,
   "id": "72766138",
   "metadata": {},
   "outputs": [
    {
     "data": {
      "text/html": [
       "<div>\n",
       "<style scoped>\n",
       "    .dataframe tbody tr th:only-of-type {\n",
       "        vertical-align: middle;\n",
       "    }\n",
       "\n",
       "    .dataframe tbody tr th {\n",
       "        vertical-align: top;\n",
       "    }\n",
       "\n",
       "    .dataframe thead th {\n",
       "        text-align: right;\n",
       "    }\n",
       "</style>\n",
       "<table border=\"1\" class=\"dataframe\">\n",
       "  <thead>\n",
       "    <tr style=\"text-align: right;\">\n",
       "      <th></th>\n",
       "      <th>person_age</th>\n",
       "      <th>person_income</th>\n",
       "      <th>person_emp_length</th>\n",
       "      <th>loan_amnt</th>\n",
       "      <th>loan_int_rate</th>\n",
       "      <th>loan_status</th>\n",
       "      <th>loan_percent_income</th>\n",
       "      <th>cb_person_cred_hist_length</th>\n",
       "    </tr>\n",
       "  </thead>\n",
       "  <tbody>\n",
       "    <tr>\n",
       "      <th>count</th>\n",
       "      <td>32581.000000</td>\n",
       "      <td>3.258100e+04</td>\n",
       "      <td>31686.000000</td>\n",
       "      <td>32581.000000</td>\n",
       "      <td>29465.000000</td>\n",
       "      <td>32581.000000</td>\n",
       "      <td>32581.000000</td>\n",
       "      <td>32581.000000</td>\n",
       "    </tr>\n",
       "    <tr>\n",
       "      <th>mean</th>\n",
       "      <td>27.734600</td>\n",
       "      <td>6.607485e+04</td>\n",
       "      <td>4.789686</td>\n",
       "      <td>9589.371106</td>\n",
       "      <td>11.011695</td>\n",
       "      <td>0.218164</td>\n",
       "      <td>0.170203</td>\n",
       "      <td>5.804211</td>\n",
       "    </tr>\n",
       "    <tr>\n",
       "      <th>std</th>\n",
       "      <td>6.348078</td>\n",
       "      <td>6.198312e+04</td>\n",
       "      <td>4.142630</td>\n",
       "      <td>6322.086646</td>\n",
       "      <td>3.240459</td>\n",
       "      <td>0.413006</td>\n",
       "      <td>0.106782</td>\n",
       "      <td>4.055001</td>\n",
       "    </tr>\n",
       "    <tr>\n",
       "      <th>min</th>\n",
       "      <td>20.000000</td>\n",
       "      <td>4.000000e+03</td>\n",
       "      <td>0.000000</td>\n",
       "      <td>500.000000</td>\n",
       "      <td>5.420000</td>\n",
       "      <td>0.000000</td>\n",
       "      <td>0.000000</td>\n",
       "      <td>2.000000</td>\n",
       "    </tr>\n",
       "    <tr>\n",
       "      <th>25%</th>\n",
       "      <td>23.000000</td>\n",
       "      <td>3.850000e+04</td>\n",
       "      <td>2.000000</td>\n",
       "      <td>5000.000000</td>\n",
       "      <td>7.900000</td>\n",
       "      <td>0.000000</td>\n",
       "      <td>0.090000</td>\n",
       "      <td>3.000000</td>\n",
       "    </tr>\n",
       "    <tr>\n",
       "      <th>50%</th>\n",
       "      <td>26.000000</td>\n",
       "      <td>5.500000e+04</td>\n",
       "      <td>4.000000</td>\n",
       "      <td>8000.000000</td>\n",
       "      <td>10.990000</td>\n",
       "      <td>0.000000</td>\n",
       "      <td>0.150000</td>\n",
       "      <td>4.000000</td>\n",
       "    </tr>\n",
       "    <tr>\n",
       "      <th>75%</th>\n",
       "      <td>30.000000</td>\n",
       "      <td>7.920000e+04</td>\n",
       "      <td>7.000000</td>\n",
       "      <td>12200.000000</td>\n",
       "      <td>13.470000</td>\n",
       "      <td>0.000000</td>\n",
       "      <td>0.230000</td>\n",
       "      <td>8.000000</td>\n",
       "    </tr>\n",
       "    <tr>\n",
       "      <th>max</th>\n",
       "      <td>144.000000</td>\n",
       "      <td>6.000000e+06</td>\n",
       "      <td>123.000000</td>\n",
       "      <td>35000.000000</td>\n",
       "      <td>23.220000</td>\n",
       "      <td>1.000000</td>\n",
       "      <td>0.830000</td>\n",
       "      <td>30.000000</td>\n",
       "    </tr>\n",
       "  </tbody>\n",
       "</table>\n",
       "</div>"
      ],
      "text/plain": [
       "         person_age  person_income  person_emp_length     loan_amnt  \\\n",
       "count  32581.000000   3.258100e+04       31686.000000  32581.000000   \n",
       "mean      27.734600   6.607485e+04           4.789686   9589.371106   \n",
       "std        6.348078   6.198312e+04           4.142630   6322.086646   \n",
       "min       20.000000   4.000000e+03           0.000000    500.000000   \n",
       "25%       23.000000   3.850000e+04           2.000000   5000.000000   \n",
       "50%       26.000000   5.500000e+04           4.000000   8000.000000   \n",
       "75%       30.000000   7.920000e+04           7.000000  12200.000000   \n",
       "max      144.000000   6.000000e+06         123.000000  35000.000000   \n",
       "\n",
       "       loan_int_rate   loan_status  loan_percent_income  \\\n",
       "count   29465.000000  32581.000000         32581.000000   \n",
       "mean       11.011695      0.218164             0.170203   \n",
       "std         3.240459      0.413006             0.106782   \n",
       "min         5.420000      0.000000             0.000000   \n",
       "25%         7.900000      0.000000             0.090000   \n",
       "50%        10.990000      0.000000             0.150000   \n",
       "75%        13.470000      0.000000             0.230000   \n",
       "max        23.220000      1.000000             0.830000   \n",
       "\n",
       "       cb_person_cred_hist_length  \n",
       "count                32581.000000  \n",
       "mean                     5.804211  \n",
       "std                      4.055001  \n",
       "min                      2.000000  \n",
       "25%                      3.000000  \n",
       "50%                      4.000000  \n",
       "75%                      8.000000  \n",
       "max                     30.000000  "
      ]
     },
     "execution_count": 7,
     "metadata": {},
     "output_type": "execute_result"
    }
   ],
   "source": [
    "df.describe()"
   ]
  },
  {
   "cell_type": "code",
   "execution_count": 8,
   "id": "88b75c37",
   "metadata": {},
   "outputs": [
    {
     "data": {
      "text/html": [
       "<div>\n",
       "<style scoped>\n",
       "    .dataframe tbody tr th:only-of-type {\n",
       "        vertical-align: middle;\n",
       "    }\n",
       "\n",
       "    .dataframe tbody tr th {\n",
       "        vertical-align: top;\n",
       "    }\n",
       "\n",
       "    .dataframe thead th {\n",
       "        text-align: right;\n",
       "    }\n",
       "</style>\n",
       "<table border=\"1\" class=\"dataframe\">\n",
       "  <thead>\n",
       "    <tr style=\"text-align: right;\">\n",
       "      <th></th>\n",
       "      <th>count</th>\n",
       "      <th>unique</th>\n",
       "      <th>most_freq</th>\n",
       "      <th>most_freq_count</th>\n",
       "      <th>least_freq</th>\n",
       "      <th>least_freq_count</th>\n",
       "    </tr>\n",
       "  </thead>\n",
       "  <tbody>\n",
       "    <tr>\n",
       "      <th>loan_status</th>\n",
       "      <td>32581</td>\n",
       "      <td>2</td>\n",
       "      <td>0</td>\n",
       "      <td>25473</td>\n",
       "      <td>1</td>\n",
       "      <td>7108</td>\n",
       "    </tr>\n",
       "    <tr>\n",
       "      <th>cb_person_default_on_file</th>\n",
       "      <td>32581</td>\n",
       "      <td>2</td>\n",
       "      <td>N</td>\n",
       "      <td>26836</td>\n",
       "      <td>Y</td>\n",
       "      <td>5745</td>\n",
       "    </tr>\n",
       "    <tr>\n",
       "      <th>person_home_ownership</th>\n",
       "      <td>32581</td>\n",
       "      <td>4</td>\n",
       "      <td>RENT</td>\n",
       "      <td>16446</td>\n",
       "      <td>OTHER</td>\n",
       "      <td>107</td>\n",
       "    </tr>\n",
       "    <tr>\n",
       "      <th>loan_intent</th>\n",
       "      <td>32581</td>\n",
       "      <td>6</td>\n",
       "      <td>EDUCATION</td>\n",
       "      <td>6453</td>\n",
       "      <td>HOMEIMPROVEMENT</td>\n",
       "      <td>3605</td>\n",
       "    </tr>\n",
       "    <tr>\n",
       "      <th>loan_grade</th>\n",
       "      <td>32581</td>\n",
       "      <td>7</td>\n",
       "      <td>A</td>\n",
       "      <td>10777</td>\n",
       "      <td>G</td>\n",
       "      <td>64</td>\n",
       "    </tr>\n",
       "    <tr>\n",
       "      <th>cb_person_cred_hist_length</th>\n",
       "      <td>32581</td>\n",
       "      <td>29</td>\n",
       "      <td>2</td>\n",
       "      <td>5965</td>\n",
       "      <td>29</td>\n",
       "      <td>14</td>\n",
       "    </tr>\n",
       "    <tr>\n",
       "      <th>person_emp_length</th>\n",
       "      <td>31686</td>\n",
       "      <td>36</td>\n",
       "      <td>0.0</td>\n",
       "      <td>4105</td>\n",
       "      <td>41.0</td>\n",
       "      <td>1</td>\n",
       "    </tr>\n",
       "    <tr>\n",
       "      <th>person_age</th>\n",
       "      <td>32581</td>\n",
       "      <td>58</td>\n",
       "      <td>23</td>\n",
       "      <td>3889</td>\n",
       "      <td>78</td>\n",
       "      <td>1</td>\n",
       "    </tr>\n",
       "    <tr>\n",
       "      <th>loan_percent_income</th>\n",
       "      <td>32581</td>\n",
       "      <td>77</td>\n",
       "      <td>0.1</td>\n",
       "      <td>1533</td>\n",
       "      <td>0.62</td>\n",
       "      <td>1</td>\n",
       "    </tr>\n",
       "    <tr>\n",
       "      <th>loan_int_rate</th>\n",
       "      <td>29465</td>\n",
       "      <td>348</td>\n",
       "      <td>7.51</td>\n",
       "      <td>756</td>\n",
       "      <td>22.48</td>\n",
       "      <td>1</td>\n",
       "    </tr>\n",
       "    <tr>\n",
       "      <th>loan_amnt</th>\n",
       "      <td>32581</td>\n",
       "      <td>753</td>\n",
       "      <td>10000</td>\n",
       "      <td>2664</td>\n",
       "      <td>31400</td>\n",
       "      <td>1</td>\n",
       "    </tr>\n",
       "    <tr>\n",
       "      <th>person_income</th>\n",
       "      <td>32581</td>\n",
       "      <td>4295</td>\n",
       "      <td>60000</td>\n",
       "      <td>1046</td>\n",
       "      <td>47652</td>\n",
       "      <td>1</td>\n",
       "    </tr>\n",
       "  </tbody>\n",
       "</table>\n",
       "</div>"
      ],
      "text/plain": [
       "                            count  unique  most_freq  most_freq_count  \\\n",
       "loan_status                 32581       2          0            25473   \n",
       "cb_person_default_on_file   32581       2          N            26836   \n",
       "person_home_ownership       32581       4       RENT            16446   \n",
       "loan_intent                 32581       6  EDUCATION             6453   \n",
       "loan_grade                  32581       7          A            10777   \n",
       "cb_person_cred_hist_length  32581      29          2             5965   \n",
       "person_emp_length           31686      36        0.0             4105   \n",
       "person_age                  32581      58         23             3889   \n",
       "loan_percent_income         32581      77        0.1             1533   \n",
       "loan_int_rate               29465     348       7.51              756   \n",
       "loan_amnt                   32581     753      10000             2664   \n",
       "person_income               32581    4295      60000             1046   \n",
       "\n",
       "                                 least_freq  least_freq_count  \n",
       "loan_status                               1              7108  \n",
       "cb_person_default_on_file                 Y              5745  \n",
       "person_home_ownership                 OTHER               107  \n",
       "loan_intent                 HOMEIMPROVEMENT              3605  \n",
       "loan_grade                                G                64  \n",
       "cb_person_cred_hist_length               29                14  \n",
       "person_emp_length                      41.0                 1  \n",
       "person_age                               78                 1  \n",
       "loan_percent_income                    0.62                 1  \n",
       "loan_int_rate                         22.48                 1  \n",
       "loan_amnt                             31400                 1  \n",
       "person_income                         47652                 1  "
      ]
     },
     "execution_count": 8,
     "metadata": {},
     "output_type": "execute_result"
    }
   ],
   "source": [
    "df.stb.counts()"
   ]
  },
  {
   "cell_type": "code",
   "execution_count": 9,
   "id": "fc98c53b",
   "metadata": {
    "scrolled": false
   },
   "outputs": [],
   "source": [
    "_ = plt.figure(figsize=(8,3))\n",
    "_ = sns.histplot(df['person_age'], binwidth=10, kde=True)\n",
    "_ = plt.title('Idade')"
   ]
  },
  {
   "cell_type": "code",
   "execution_count": 10,
   "id": "d510741a",
   "metadata": {},
   "outputs": [
    {
     "data": {
      "text/html": [
       "<div>\n",
       "<style scoped>\n",
       "    .dataframe tbody tr th:only-of-type {\n",
       "        vertical-align: middle;\n",
       "    }\n",
       "\n",
       "    .dataframe tbody tr th {\n",
       "        vertical-align: top;\n",
       "    }\n",
       "\n",
       "    .dataframe thead th {\n",
       "        text-align: right;\n",
       "    }\n",
       "</style>\n",
       "<table border=\"1\" class=\"dataframe\">\n",
       "  <thead>\n",
       "    <tr style=\"text-align: right;\">\n",
       "      <th></th>\n",
       "      <th>person_age</th>\n",
       "      <th>person_income</th>\n",
       "      <th>person_home_ownership</th>\n",
       "      <th>person_emp_length</th>\n",
       "      <th>loan_intent</th>\n",
       "      <th>loan_grade</th>\n",
       "      <th>loan_amnt</th>\n",
       "      <th>loan_int_rate</th>\n",
       "      <th>loan_status</th>\n",
       "      <th>loan_percent_income</th>\n",
       "      <th>cb_person_default_on_file</th>\n",
       "      <th>cb_person_cred_hist_length</th>\n",
       "    </tr>\n",
       "  </thead>\n",
       "  <tbody>\n",
       "    <tr>\n",
       "      <th>81</th>\n",
       "      <td>144</td>\n",
       "      <td>250000</td>\n",
       "      <td>RENT</td>\n",
       "      <td>4.0</td>\n",
       "      <td>VENTURE</td>\n",
       "      <td>C</td>\n",
       "      <td>4800</td>\n",
       "      <td>13.57</td>\n",
       "      <td>0</td>\n",
       "      <td>0.02</td>\n",
       "      <td>N</td>\n",
       "      <td>3</td>\n",
       "    </tr>\n",
       "    <tr>\n",
       "      <th>183</th>\n",
       "      <td>144</td>\n",
       "      <td>200000</td>\n",
       "      <td>MORTGAGE</td>\n",
       "      <td>4.0</td>\n",
       "      <td>EDUCATION</td>\n",
       "      <td>B</td>\n",
       "      <td>6000</td>\n",
       "      <td>11.86</td>\n",
       "      <td>0</td>\n",
       "      <td>0.03</td>\n",
       "      <td>N</td>\n",
       "      <td>2</td>\n",
       "    </tr>\n",
       "    <tr>\n",
       "      <th>575</th>\n",
       "      <td>123</td>\n",
       "      <td>80004</td>\n",
       "      <td>RENT</td>\n",
       "      <td>2.0</td>\n",
       "      <td>EDUCATION</td>\n",
       "      <td>B</td>\n",
       "      <td>20400</td>\n",
       "      <td>10.25</td>\n",
       "      <td>0</td>\n",
       "      <td>0.25</td>\n",
       "      <td>N</td>\n",
       "      <td>3</td>\n",
       "    </tr>\n",
       "    <tr>\n",
       "      <th>747</th>\n",
       "      <td>123</td>\n",
       "      <td>78000</td>\n",
       "      <td>RENT</td>\n",
       "      <td>7.0</td>\n",
       "      <td>VENTURE</td>\n",
       "      <td>B</td>\n",
       "      <td>20000</td>\n",
       "      <td>NaN</td>\n",
       "      <td>0</td>\n",
       "      <td>0.26</td>\n",
       "      <td>N</td>\n",
       "      <td>4</td>\n",
       "    </tr>\n",
       "    <tr>\n",
       "      <th>32297</th>\n",
       "      <td>144</td>\n",
       "      <td>6000000</td>\n",
       "      <td>MORTGAGE</td>\n",
       "      <td>12.0</td>\n",
       "      <td>PERSONAL</td>\n",
       "      <td>C</td>\n",
       "      <td>5000</td>\n",
       "      <td>12.73</td>\n",
       "      <td>0</td>\n",
       "      <td>0.00</td>\n",
       "      <td>N</td>\n",
       "      <td>25</td>\n",
       "    </tr>\n",
       "  </tbody>\n",
       "</table>\n",
       "</div>"
      ],
      "text/plain": [
       "       person_age  person_income person_home_ownership  person_emp_length  \\\n",
       "81            144         250000                  RENT                4.0   \n",
       "183           144         200000              MORTGAGE                4.0   \n",
       "575           123          80004                  RENT                2.0   \n",
       "747           123          78000                  RENT                7.0   \n",
       "32297         144        6000000              MORTGAGE               12.0   \n",
       "\n",
       "      loan_intent loan_grade  loan_amnt  loan_int_rate  loan_status  \\\n",
       "81        VENTURE          C       4800          13.57            0   \n",
       "183     EDUCATION          B       6000          11.86            0   \n",
       "575     EDUCATION          B      20400          10.25            0   \n",
       "747       VENTURE          B      20000            NaN            0   \n",
       "32297    PERSONAL          C       5000          12.73            0   \n",
       "\n",
       "       loan_percent_income cb_person_default_on_file  \\\n",
       "81                    0.02                         N   \n",
       "183                   0.03                         N   \n",
       "575                   0.25                         N   \n",
       "747                   0.26                         N   \n",
       "32297                 0.00                         N   \n",
       "\n",
       "       cb_person_cred_hist_length  \n",
       "81                              3  \n",
       "183                             2  \n",
       "575                             3  \n",
       "747                             4  \n",
       "32297                          25  "
      ]
     },
     "execution_count": 10,
     "metadata": {},
     "output_type": "execute_result"
    }
   ],
   "source": [
    "df.loc[df['person_age'] > 100]"
   ]
  },
  {
   "cell_type": "markdown",
   "id": "497e705d",
   "metadata": {},
   "source": [
    "### Foram encontrados 5 registros com idade acima de 100 anos, entre 120 e 145"
   ]
  },
  {
   "cell_type": "code",
   "execution_count": 11,
   "id": "abdfb9f1",
   "metadata": {},
   "outputs": [],
   "source": [
    "# excluindo os registros\n",
    "df = df.loc[df['person_age'] < 100]"
   ]
  },
  {
   "cell_type": "code",
   "execution_count": 12,
   "id": "6d93843a",
   "metadata": {},
   "outputs": [],
   "source": [
    "_ = plt.figure(figsize=(8,3))\n",
    "_ = sns.histplot(df['person_emp_length'], binwidth=10, kde=True)\n",
    "_ = plt.title('Tempo de Empresa')"
   ]
  },
  {
   "cell_type": "code",
   "execution_count": 13,
   "id": "ec4b5d73",
   "metadata": {},
   "outputs": [
    {
     "data": {
      "text/html": [
       "<div>\n",
       "<style scoped>\n",
       "    .dataframe tbody tr th:only-of-type {\n",
       "        vertical-align: middle;\n",
       "    }\n",
       "\n",
       "    .dataframe tbody tr th {\n",
       "        vertical-align: top;\n",
       "    }\n",
       "\n",
       "    .dataframe thead th {\n",
       "        text-align: right;\n",
       "    }\n",
       "</style>\n",
       "<table border=\"1\" class=\"dataframe\">\n",
       "  <thead>\n",
       "    <tr style=\"text-align: right;\">\n",
       "      <th></th>\n",
       "      <th>person_age</th>\n",
       "      <th>person_income</th>\n",
       "      <th>person_home_ownership</th>\n",
       "      <th>person_emp_length</th>\n",
       "      <th>loan_intent</th>\n",
       "      <th>loan_grade</th>\n",
       "      <th>loan_amnt</th>\n",
       "      <th>loan_int_rate</th>\n",
       "      <th>loan_status</th>\n",
       "      <th>loan_percent_income</th>\n",
       "      <th>cb_person_default_on_file</th>\n",
       "      <th>cb_person_cred_hist_length</th>\n",
       "    </tr>\n",
       "  </thead>\n",
       "  <tbody>\n",
       "    <tr>\n",
       "      <th>0</th>\n",
       "      <td>22</td>\n",
       "      <td>59000</td>\n",
       "      <td>RENT</td>\n",
       "      <td>123.0</td>\n",
       "      <td>PERSONAL</td>\n",
       "      <td>D</td>\n",
       "      <td>35000</td>\n",
       "      <td>16.02</td>\n",
       "      <td>1</td>\n",
       "      <td>0.59</td>\n",
       "      <td>Y</td>\n",
       "      <td>3</td>\n",
       "    </tr>\n",
       "    <tr>\n",
       "      <th>210</th>\n",
       "      <td>21</td>\n",
       "      <td>192000</td>\n",
       "      <td>MORTGAGE</td>\n",
       "      <td>123.0</td>\n",
       "      <td>VENTURE</td>\n",
       "      <td>A</td>\n",
       "      <td>20000</td>\n",
       "      <td>6.54</td>\n",
       "      <td>0</td>\n",
       "      <td>0.10</td>\n",
       "      <td>N</td>\n",
       "      <td>4</td>\n",
       "    </tr>\n",
       "  </tbody>\n",
       "</table>\n",
       "</div>"
      ],
      "text/plain": [
       "     person_age  person_income person_home_ownership  person_emp_length  \\\n",
       "0            22          59000                  RENT              123.0   \n",
       "210          21         192000              MORTGAGE              123.0   \n",
       "\n",
       "    loan_intent loan_grade  loan_amnt  loan_int_rate  loan_status  \\\n",
       "0      PERSONAL          D      35000          16.02            1   \n",
       "210     VENTURE          A      20000           6.54            0   \n",
       "\n",
       "     loan_percent_income cb_person_default_on_file  cb_person_cred_hist_length  \n",
       "0                   0.59                         Y                           3  \n",
       "210                 0.10                         N                           4  "
      ]
     },
     "execution_count": 13,
     "metadata": {},
     "output_type": "execute_result"
    }
   ],
   "source": [
    "df.loc[df['person_emp_length'] > 50]"
   ]
  },
  {
   "cell_type": "markdown",
   "id": "2b02eda0",
   "metadata": {},
   "source": [
    "### Encontrados 2 registros com tempo de empresa igual a 123 anos"
   ]
  },
  {
   "cell_type": "code",
   "execution_count": 14,
   "id": "574d092b",
   "metadata": {},
   "outputs": [],
   "source": [
    "# excluindo os registros\n",
    "df = df.loc[df['person_emp_length'] != 123.00]"
   ]
  },
  {
   "cell_type": "markdown",
   "id": "71624cbc",
   "metadata": {},
   "source": [
    "### Verificando se há alguma relação considerável entre as features"
   ]
  },
  {
   "cell_type": "code",
   "execution_count": 15,
   "id": "72f0e807",
   "metadata": {},
   "outputs": [
    {
     "name": "stderr",
     "output_type": "stream",
     "text": [
      "C:\\Users\\renan\\AppData\\Local\\Temp\\ipykernel_3060\\4088087270.py:2: FutureWarning: The default value of numeric_only in DataFrame.corr is deprecated. In a future version, it will default to False. Select only valid columns or specify the value of numeric_only to silence this warning.\n",
      "  _ = sns.heatmap(df.corr(), annot=True, cmap='Blues')\n"
     ]
    }
   ],
   "source": [
    "_ = plt.figure(figsize = (8,5))\n",
    "_ = sns.heatmap(df.corr(), annot=True, cmap='Blues')"
   ]
  },
  {
   "cell_type": "markdown",
   "id": "0d81513a",
   "metadata": {},
   "source": [
    "### Há uma relação considerável entre idade e o tempo de histórico"
   ]
  },
  {
   "cell_type": "code",
   "execution_count": 16,
   "id": "f5f143cf",
   "metadata": {},
   "outputs": [],
   "source": [
    "# excluindo o tempo de histórico\n",
    "df = df.drop('cb_person_cred_hist_length', axis=1)"
   ]
  },
  {
   "cell_type": "markdown",
   "id": "e6509543",
   "metadata": {},
   "source": [
    "### Verificando se há outliers na renda anual"
   ]
  },
  {
   "cell_type": "code",
   "execution_count": 17,
   "id": "f558daef",
   "metadata": {},
   "outputs": [
    {
     "data": {
      "text/plain": [
       "<Axes: xlabel='person_income'>"
      ]
     },
     "execution_count": 17,
     "metadata": {},
     "output_type": "execute_result"
    }
   ],
   "source": [
    "q1 = df['person_income'].quantile(0.25)\n",
    "q3 = df['person_income'].quantile(0.75)\n",
    "amplitude = q3 - q1\n",
    "\n",
    "fig, (ax1, ax2) = plt.subplots(1,2)\n",
    "fig.set_size_inches(13,4)\n",
    "sns.boxplot(x=df['person_income'], ax=ax1)\n",
    "ax2.set_xlim(q1 - 1.5 * amplitude, q3 + 1.5 * amplitude)\n",
    "sns.boxplot(x=df['person_income'], ax=ax2)"
   ]
  },
  {
   "cell_type": "markdown",
   "id": "e9e589a9",
   "metadata": {},
   "source": [
    "### Verificado que existem pessoas com renda muito superior a média"
   ]
  },
  {
   "cell_type": "code",
   "execution_count": 18,
   "id": "ddcff4c3",
   "metadata": {},
   "outputs": [
    {
     "name": "stdout",
     "output_type": "stream",
     "text": [
      "1480 registros removidos da base de dados\n"
     ]
    }
   ],
   "source": [
    "# excluindo o registros\n",
    "qtd_linhas = df.shape[0]\n",
    "lim_inf = q1 - 1.5 * amplitude\n",
    "lim_sup = q3 + 1.5 * amplitude\n",
    "df = df.loc[(df['person_income'] >= lim_inf) & (df['person_income'] <= lim_sup), :]\n",
    "linhas_removidas = qtd_linhas - df.shape[0]\n",
    "print(f'{linhas_removidas} registros removidos da base de dados')"
   ]
  },
  {
   "cell_type": "code",
   "execution_count": 19,
   "id": "830ad91d",
   "metadata": {},
   "outputs": [
    {
     "data": {
      "text/html": [
       "<style type=\"text/css\">\n",
       "</style>\n",
       "<table id=\"T_e2268\">\n",
       "  <thead>\n",
       "    <tr>\n",
       "      <th class=\"blank level0\" >&nbsp;</th>\n",
       "      <th id=\"T_e2268_level0_col0\" class=\"col_heading level0 col0\" >person_home_ownership</th>\n",
       "      <th id=\"T_e2268_level0_col1\" class=\"col_heading level0 col1\" >count</th>\n",
       "      <th id=\"T_e2268_level0_col2\" class=\"col_heading level0 col2\" >percent</th>\n",
       "      <th id=\"T_e2268_level0_col3\" class=\"col_heading level0 col3\" >cumulative_count</th>\n",
       "      <th id=\"T_e2268_level0_col4\" class=\"col_heading level0 col4\" >cumulative_percent</th>\n",
       "    </tr>\n",
       "  </thead>\n",
       "  <tbody>\n",
       "    <tr>\n",
       "      <th id=\"T_e2268_level0_row0\" class=\"row_heading level0 row0\" >0</th>\n",
       "      <td id=\"T_e2268_row0_col0\" class=\"data row0 col0\" >RENT</td>\n",
       "      <td id=\"T_e2268_row0_col1\" class=\"data row0 col1\" >16,099</td>\n",
       "      <td id=\"T_e2268_row0_col2\" class=\"data row0 col2\" >51.78%</td>\n",
       "      <td id=\"T_e2268_row0_col3\" class=\"data row0 col3\" >16,099</td>\n",
       "      <td id=\"T_e2268_row0_col4\" class=\"data row0 col4\" >51.78%</td>\n",
       "    </tr>\n",
       "    <tr>\n",
       "      <th id=\"T_e2268_level0_row1\" class=\"row_heading level0 row1\" >1</th>\n",
       "      <td id=\"T_e2268_row1_col0\" class=\"data row1 col0\" >MORTGAGE</td>\n",
       "      <td id=\"T_e2268_row1_col1\" class=\"data row1 col1\" >12,426</td>\n",
       "      <td id=\"T_e2268_row1_col2\" class=\"data row1 col2\" >39.96%</td>\n",
       "      <td id=\"T_e2268_row1_col3\" class=\"data row1 col3\" >28,525</td>\n",
       "      <td id=\"T_e2268_row1_col4\" class=\"data row1 col4\" >91.74%</td>\n",
       "    </tr>\n",
       "    <tr>\n",
       "      <th id=\"T_e2268_level0_row2\" class=\"row_heading level0 row2\" >2</th>\n",
       "      <td id=\"T_e2268_row2_col0\" class=\"data row2 col0\" >OWN</td>\n",
       "      <td id=\"T_e2268_row2_col1\" class=\"data row2 col1\" >2,469</td>\n",
       "      <td id=\"T_e2268_row2_col2\" class=\"data row2 col2\" >7.94%</td>\n",
       "      <td id=\"T_e2268_row2_col3\" class=\"data row2 col3\" >30,994</td>\n",
       "      <td id=\"T_e2268_row2_col4\" class=\"data row2 col4\" >99.68%</td>\n",
       "    </tr>\n",
       "    <tr>\n",
       "      <th id=\"T_e2268_level0_row3\" class=\"row_heading level0 row3\" >3</th>\n",
       "      <td id=\"T_e2268_row3_col0\" class=\"data row3 col0\" >OTHER</td>\n",
       "      <td id=\"T_e2268_row3_col1\" class=\"data row3 col1\" >100</td>\n",
       "      <td id=\"T_e2268_row3_col2\" class=\"data row3 col2\" >0.32%</td>\n",
       "      <td id=\"T_e2268_row3_col3\" class=\"data row3 col3\" >31,094</td>\n",
       "      <td id=\"T_e2268_row3_col4\" class=\"data row3 col4\" >100.00%</td>\n",
       "    </tr>\n",
       "  </tbody>\n",
       "</table>\n"
      ],
      "text/plain": [
       "<pandas.io.formats.style.Styler at 0x21e55692710>"
      ]
     },
     "execution_count": 19,
     "metadata": {},
     "output_type": "execute_result"
    }
   ],
   "source": [
    "df.stb.freq(['person_home_ownership'], style=True)"
   ]
  },
  {
   "cell_type": "markdown",
   "id": "b4d9a26d",
   "metadata": {},
   "source": [
    "### Verificado que mais de 91% das pessoas moram de aluguel ou possui hipotéca"
   ]
  },
  {
   "cell_type": "code",
   "execution_count": 20,
   "id": "f06016ad",
   "metadata": {
    "scrolled": true
   },
   "outputs": [
    {
     "data": {
      "text/html": [
       "<style type=\"text/css\">\n",
       "</style>\n",
       "<table id=\"T_1e558\">\n",
       "  <thead>\n",
       "    <tr>\n",
       "      <th class=\"blank level0\" >&nbsp;</th>\n",
       "      <th id=\"T_1e558_level0_col0\" class=\"col_heading level0 col0\" >loan_intent</th>\n",
       "      <th id=\"T_1e558_level0_col1\" class=\"col_heading level0 col1\" >count</th>\n",
       "      <th id=\"T_1e558_level0_col2\" class=\"col_heading level0 col2\" >percent</th>\n",
       "      <th id=\"T_1e558_level0_col3\" class=\"col_heading level0 col3\" >cumulative_count</th>\n",
       "      <th id=\"T_1e558_level0_col4\" class=\"col_heading level0 col4\" >cumulative_percent</th>\n",
       "    </tr>\n",
       "  </thead>\n",
       "  <tbody>\n",
       "    <tr>\n",
       "      <th id=\"T_1e558_level0_row0\" class=\"row_heading level0 row0\" >0</th>\n",
       "      <td id=\"T_1e558_row0_col0\" class=\"data row0 col0\" >EDUCATION</td>\n",
       "      <td id=\"T_1e558_row0_col1\" class=\"data row0 col1\" >6,200</td>\n",
       "      <td id=\"T_1e558_row0_col2\" class=\"data row0 col2\" >19.94%</td>\n",
       "      <td id=\"T_1e558_row0_col3\" class=\"data row0 col3\" >6,200</td>\n",
       "      <td id=\"T_1e558_row0_col4\" class=\"data row0 col4\" >19.94%</td>\n",
       "    </tr>\n",
       "    <tr>\n",
       "      <th id=\"T_1e558_level0_row1\" class=\"row_heading level0 row1\" >1</th>\n",
       "      <td id=\"T_1e558_row1_col0\" class=\"data row1 col0\" >MEDICAL</td>\n",
       "      <td id=\"T_1e558_row1_col1\" class=\"data row1 col1\" >5,846</td>\n",
       "      <td id=\"T_1e558_row1_col2\" class=\"data row1 col2\" >18.80%</td>\n",
       "      <td id=\"T_1e558_row1_col3\" class=\"data row1 col3\" >12,046</td>\n",
       "      <td id=\"T_1e558_row1_col4\" class=\"data row1 col4\" >38.74%</td>\n",
       "    </tr>\n",
       "    <tr>\n",
       "      <th id=\"T_1e558_level0_row2\" class=\"row_heading level0 row2\" >2</th>\n",
       "      <td id=\"T_1e558_row2_col0\" class=\"data row2 col0\" >VENTURE</td>\n",
       "      <td id=\"T_1e558_row2_col1\" class=\"data row2 col1\" >5,444</td>\n",
       "      <td id=\"T_1e558_row2_col2\" class=\"data row2 col2\" >17.51%</td>\n",
       "      <td id=\"T_1e558_row2_col3\" class=\"data row2 col3\" >17,490</td>\n",
       "      <td id=\"T_1e558_row2_col4\" class=\"data row2 col4\" >56.25%</td>\n",
       "    </tr>\n",
       "    <tr>\n",
       "      <th id=\"T_1e558_level0_row3\" class=\"row_heading level0 row3\" >3</th>\n",
       "      <td id=\"T_1e558_row3_col0\" class=\"data row3 col0\" >PERSONAL</td>\n",
       "      <td id=\"T_1e558_row3_col1\" class=\"data row3 col1\" >5,259</td>\n",
       "      <td id=\"T_1e558_row3_col2\" class=\"data row3 col2\" >16.91%</td>\n",
       "      <td id=\"T_1e558_row3_col3\" class=\"data row3 col3\" >22,749</td>\n",
       "      <td id=\"T_1e558_row3_col4\" class=\"data row3 col4\" >73.16%</td>\n",
       "    </tr>\n",
       "    <tr>\n",
       "      <th id=\"T_1e558_level0_row4\" class=\"row_heading level0 row4\" >4</th>\n",
       "      <td id=\"T_1e558_row4_col0\" class=\"data row4 col0\" >DEBTCONSOLIDATION</td>\n",
       "      <td id=\"T_1e558_row4_col1\" class=\"data row4 col1\" >4,955</td>\n",
       "      <td id=\"T_1e558_row4_col2\" class=\"data row4 col2\" >15.94%</td>\n",
       "      <td id=\"T_1e558_row4_col3\" class=\"data row4 col3\" >27,704</td>\n",
       "      <td id=\"T_1e558_row4_col4\" class=\"data row4 col4\" >89.10%</td>\n",
       "    </tr>\n",
       "    <tr>\n",
       "      <th id=\"T_1e558_level0_row5\" class=\"row_heading level0 row5\" >5</th>\n",
       "      <td id=\"T_1e558_row5_col0\" class=\"data row5 col0\" >HOMEIMPROVEMENT</td>\n",
       "      <td id=\"T_1e558_row5_col1\" class=\"data row5 col1\" >3,390</td>\n",
       "      <td id=\"T_1e558_row5_col2\" class=\"data row5 col2\" >10.90%</td>\n",
       "      <td id=\"T_1e558_row5_col3\" class=\"data row5 col3\" >31,094</td>\n",
       "      <td id=\"T_1e558_row5_col4\" class=\"data row5 col4\" >100.00%</td>\n",
       "    </tr>\n",
       "  </tbody>\n",
       "</table>\n"
      ],
      "text/plain": [
       "<pandas.io.formats.style.Styler at 0x21e55b591b0>"
      ]
     },
     "execution_count": 20,
     "metadata": {},
     "output_type": "execute_result"
    }
   ],
   "source": [
    "df.stb.freq(['loan_intent'], style=True)"
   ]
  },
  {
   "cell_type": "markdown",
   "id": "1589aabc",
   "metadata": {},
   "source": [
    "### Verificado que não há discrepancia no propósito do empréstimo"
   ]
  },
  {
   "cell_type": "code",
   "execution_count": 21,
   "id": "98ad2f03",
   "metadata": {},
   "outputs": [
    {
     "data": {
      "text/html": [
       "<style type=\"text/css\">\n",
       "</style>\n",
       "<table id=\"T_108c4\">\n",
       "  <thead>\n",
       "    <tr>\n",
       "      <th class=\"blank level0\" >&nbsp;</th>\n",
       "      <th id=\"T_108c4_level0_col0\" class=\"col_heading level0 col0\" >loan_grade</th>\n",
       "      <th id=\"T_108c4_level0_col1\" class=\"col_heading level0 col1\" >count</th>\n",
       "      <th id=\"T_108c4_level0_col2\" class=\"col_heading level0 col2\" >percent</th>\n",
       "      <th id=\"T_108c4_level0_col3\" class=\"col_heading level0 col3\" >cumulative_count</th>\n",
       "      <th id=\"T_108c4_level0_col4\" class=\"col_heading level0 col4\" >cumulative_percent</th>\n",
       "    </tr>\n",
       "  </thead>\n",
       "  <tbody>\n",
       "    <tr>\n",
       "      <th id=\"T_108c4_level0_row0\" class=\"row_heading level0 row0\" >0</th>\n",
       "      <td id=\"T_108c4_row0_col0\" class=\"data row0 col0\" >A</td>\n",
       "      <td id=\"T_108c4_row0_col1\" class=\"data row0 col1\" >10,343</td>\n",
       "      <td id=\"T_108c4_row0_col2\" class=\"data row0 col2\" >33.26%</td>\n",
       "      <td id=\"T_108c4_row0_col3\" class=\"data row0 col3\" >10,343</td>\n",
       "      <td id=\"T_108c4_row0_col4\" class=\"data row0 col4\" >33.26%</td>\n",
       "    </tr>\n",
       "    <tr>\n",
       "      <th id=\"T_108c4_level0_row1\" class=\"row_heading level0 row1\" >1</th>\n",
       "      <td id=\"T_108c4_row1_col0\" class=\"data row1 col0\" >B</td>\n",
       "      <td id=\"T_108c4_row1_col1\" class=\"data row1 col1\" >9,922</td>\n",
       "      <td id=\"T_108c4_row1_col2\" class=\"data row1 col2\" >31.91%</td>\n",
       "      <td id=\"T_108c4_row1_col3\" class=\"data row1 col3\" >20,265</td>\n",
       "      <td id=\"T_108c4_row1_col4\" class=\"data row1 col4\" >65.17%</td>\n",
       "    </tr>\n",
       "    <tr>\n",
       "      <th id=\"T_108c4_level0_row2\" class=\"row_heading level0 row2\" >2</th>\n",
       "      <td id=\"T_108c4_row2_col0\" class=\"data row2 col0\" >C</td>\n",
       "      <td id=\"T_108c4_row2_col1\" class=\"data row2 col1\" >6,191</td>\n",
       "      <td id=\"T_108c4_row2_col2\" class=\"data row2 col2\" >19.91%</td>\n",
       "      <td id=\"T_108c4_row2_col3\" class=\"data row2 col3\" >26,456</td>\n",
       "      <td id=\"T_108c4_row2_col4\" class=\"data row2 col4\" >85.08%</td>\n",
       "    </tr>\n",
       "    <tr>\n",
       "      <th id=\"T_108c4_level0_row3\" class=\"row_heading level0 row3\" >3</th>\n",
       "      <td id=\"T_108c4_row3_col0\" class=\"data row3 col0\" >D</td>\n",
       "      <td id=\"T_108c4_row3_col1\" class=\"data row3 col1\" >3,458</td>\n",
       "      <td id=\"T_108c4_row3_col2\" class=\"data row3 col2\" >11.12%</td>\n",
       "      <td id=\"T_108c4_row3_col3\" class=\"data row3 col3\" >29,914</td>\n",
       "      <td id=\"T_108c4_row3_col4\" class=\"data row3 col4\" >96.21%</td>\n",
       "    </tr>\n",
       "    <tr>\n",
       "      <th id=\"T_108c4_level0_row4\" class=\"row_heading level0 row4\" >4</th>\n",
       "      <td id=\"T_108c4_row4_col0\" class=\"data row4 col0\" >E</td>\n",
       "      <td id=\"T_108c4_row4_col1\" class=\"data row4 col1\" >899</td>\n",
       "      <td id=\"T_108c4_row4_col2\" class=\"data row4 col2\" >2.89%</td>\n",
       "      <td id=\"T_108c4_row4_col3\" class=\"data row4 col3\" >30,813</td>\n",
       "      <td id=\"T_108c4_row4_col4\" class=\"data row4 col4\" >99.10%</td>\n",
       "    </tr>\n",
       "    <tr>\n",
       "      <th id=\"T_108c4_level0_row5\" class=\"row_heading level0 row5\" >5</th>\n",
       "      <td id=\"T_108c4_row5_col0\" class=\"data row5 col0\" >F</td>\n",
       "      <td id=\"T_108c4_row5_col1\" class=\"data row5 col1\" >221</td>\n",
       "      <td id=\"T_108c4_row5_col2\" class=\"data row5 col2\" >0.71%</td>\n",
       "      <td id=\"T_108c4_row5_col3\" class=\"data row5 col3\" >31,034</td>\n",
       "      <td id=\"T_108c4_row5_col4\" class=\"data row5 col4\" >99.81%</td>\n",
       "    </tr>\n",
       "    <tr>\n",
       "      <th id=\"T_108c4_level0_row6\" class=\"row_heading level0 row6\" >6</th>\n",
       "      <td id=\"T_108c4_row6_col0\" class=\"data row6 col0\" >G</td>\n",
       "      <td id=\"T_108c4_row6_col1\" class=\"data row6 col1\" >60</td>\n",
       "      <td id=\"T_108c4_row6_col2\" class=\"data row6 col2\" >0.19%</td>\n",
       "      <td id=\"T_108c4_row6_col3\" class=\"data row6 col3\" >31,094</td>\n",
       "      <td id=\"T_108c4_row6_col4\" class=\"data row6 col4\" >100.00%</td>\n",
       "    </tr>\n",
       "  </tbody>\n",
       "</table>\n"
      ],
      "text/plain": [
       "<pandas.io.formats.style.Styler at 0x21e55b59510>"
      ]
     },
     "execution_count": 21,
     "metadata": {},
     "output_type": "execute_result"
    }
   ],
   "source": [
    "df.stb.freq(['loan_grade'], style=True)"
   ]
  },
  {
   "cell_type": "code",
   "execution_count": 22,
   "id": "9138f9a5",
   "metadata": {
    "scrolled": false
   },
   "outputs": [
    {
     "data": {
      "text/html": [
       "<style type=\"text/css\">\n",
       "</style>\n",
       "<table id=\"T_13a48\">\n",
       "  <thead>\n",
       "    <tr>\n",
       "      <th class=\"blank level0\" >&nbsp;</th>\n",
       "      <th id=\"T_13a48_level0_col0\" class=\"col_heading level0 col0\" >loan_status</th>\n",
       "      <th id=\"T_13a48_level0_col1\" class=\"col_heading level0 col1\" >loan_grade</th>\n",
       "      <th id=\"T_13a48_level0_col2\" class=\"col_heading level0 col2\" >count</th>\n",
       "      <th id=\"T_13a48_level0_col3\" class=\"col_heading level0 col3\" >percent</th>\n",
       "      <th id=\"T_13a48_level0_col4\" class=\"col_heading level0 col4\" >cumulative_count</th>\n",
       "      <th id=\"T_13a48_level0_col5\" class=\"col_heading level0 col5\" >cumulative_percent</th>\n",
       "    </tr>\n",
       "  </thead>\n",
       "  <tbody>\n",
       "    <tr>\n",
       "      <th id=\"T_13a48_level0_row0\" class=\"row_heading level0 row0\" >0</th>\n",
       "      <td id=\"T_13a48_row0_col0\" class=\"data row0 col0\" >0</td>\n",
       "      <td id=\"T_13a48_row0_col1\" class=\"data row0 col1\" >A</td>\n",
       "      <td id=\"T_13a48_row0_col2\" class=\"data row0 col2\" >9,274</td>\n",
       "      <td id=\"T_13a48_row0_col3\" class=\"data row0 col3\" >29.83%</td>\n",
       "      <td id=\"T_13a48_row0_col4\" class=\"data row0 col4\" >9,274</td>\n",
       "      <td id=\"T_13a48_row0_col5\" class=\"data row0 col5\" >29.83%</td>\n",
       "    </tr>\n",
       "    <tr>\n",
       "      <th id=\"T_13a48_level0_row1\" class=\"row_heading level0 row1\" >1</th>\n",
       "      <td id=\"T_13a48_row1_col0\" class=\"data row1 col0\" >0</td>\n",
       "      <td id=\"T_13a48_row1_col1\" class=\"data row1 col1\" >B</td>\n",
       "      <td id=\"T_13a48_row1_col2\" class=\"data row1 col2\" >8,245</td>\n",
       "      <td id=\"T_13a48_row1_col3\" class=\"data row1 col3\" >26.52%</td>\n",
       "      <td id=\"T_13a48_row1_col4\" class=\"data row1 col4\" >17,519</td>\n",
       "      <td id=\"T_13a48_row1_col5\" class=\"data row1 col5\" >56.34%</td>\n",
       "    </tr>\n",
       "    <tr>\n",
       "      <th id=\"T_13a48_level0_row2\" class=\"row_heading level0 row2\" >2</th>\n",
       "      <td id=\"T_13a48_row2_col0\" class=\"data row2 col0\" >0</td>\n",
       "      <td id=\"T_13a48_row2_col1\" class=\"data row2 col1\" >C</td>\n",
       "      <td id=\"T_13a48_row2_col2\" class=\"data row2 col2\" >4,860</td>\n",
       "      <td id=\"T_13a48_row2_col3\" class=\"data row2 col3\" >15.63%</td>\n",
       "      <td id=\"T_13a48_row2_col4\" class=\"data row2 col4\" >22,379</td>\n",
       "      <td id=\"T_13a48_row2_col5\" class=\"data row2 col5\" >71.97%</td>\n",
       "    </tr>\n",
       "    <tr>\n",
       "      <th id=\"T_13a48_level0_row3\" class=\"row_heading level0 row3\" >3</th>\n",
       "      <td id=\"T_13a48_row3_col0\" class=\"data row3 col0\" >1</td>\n",
       "      <td id=\"T_13a48_row3_col1\" class=\"data row3 col1\" >D</td>\n",
       "      <td id=\"T_13a48_row3_col2\" class=\"data row3 col2\" >2,077</td>\n",
       "      <td id=\"T_13a48_row3_col3\" class=\"data row3 col3\" >6.68%</td>\n",
       "      <td id=\"T_13a48_row3_col4\" class=\"data row3 col4\" >24,456</td>\n",
       "      <td id=\"T_13a48_row3_col5\" class=\"data row3 col5\" >78.65%</td>\n",
       "    </tr>\n",
       "    <tr>\n",
       "      <th id=\"T_13a48_level0_row4\" class=\"row_heading level0 row4\" >4</th>\n",
       "      <td id=\"T_13a48_row4_col0\" class=\"data row4 col0\" >1</td>\n",
       "      <td id=\"T_13a48_row4_col1\" class=\"data row4 col1\" >B</td>\n",
       "      <td id=\"T_13a48_row4_col2\" class=\"data row4 col2\" >1,677</td>\n",
       "      <td id=\"T_13a48_row4_col3\" class=\"data row4 col3\" >5.39%</td>\n",
       "      <td id=\"T_13a48_row4_col4\" class=\"data row4 col4\" >26,133</td>\n",
       "      <td id=\"T_13a48_row4_col5\" class=\"data row4 col5\" >84.05%</td>\n",
       "    </tr>\n",
       "    <tr>\n",
       "      <th id=\"T_13a48_level0_row5\" class=\"row_heading level0 row5\" >5</th>\n",
       "      <td id=\"T_13a48_row5_col0\" class=\"data row5 col0\" >0</td>\n",
       "      <td id=\"T_13a48_row5_col1\" class=\"data row5 col1\" >D</td>\n",
       "      <td id=\"T_13a48_row5_col2\" class=\"data row5 col2\" >1,381</td>\n",
       "      <td id=\"T_13a48_row5_col3\" class=\"data row5 col3\" >4.44%</td>\n",
       "      <td id=\"T_13a48_row5_col4\" class=\"data row5 col4\" >27,514</td>\n",
       "      <td id=\"T_13a48_row5_col5\" class=\"data row5 col5\" >88.49%</td>\n",
       "    </tr>\n",
       "    <tr>\n",
       "      <th id=\"T_13a48_level0_row6\" class=\"row_heading level0 row6\" >6</th>\n",
       "      <td id=\"T_13a48_row6_col0\" class=\"data row6 col0\" >1</td>\n",
       "      <td id=\"T_13a48_row6_col1\" class=\"data row6 col1\" >C</td>\n",
       "      <td id=\"T_13a48_row6_col2\" class=\"data row6 col2\" >1,331</td>\n",
       "      <td id=\"T_13a48_row6_col3\" class=\"data row6 col3\" >4.28%</td>\n",
       "      <td id=\"T_13a48_row6_col4\" class=\"data row6 col4\" >28,845</td>\n",
       "      <td id=\"T_13a48_row6_col5\" class=\"data row6 col5\" >92.77%</td>\n",
       "    </tr>\n",
       "    <tr>\n",
       "      <th id=\"T_13a48_level0_row7\" class=\"row_heading level0 row7\" >7</th>\n",
       "      <td id=\"T_13a48_row7_col0\" class=\"data row7 col0\" >1</td>\n",
       "      <td id=\"T_13a48_row7_col1\" class=\"data row7 col1\" >A</td>\n",
       "      <td id=\"T_13a48_row7_col2\" class=\"data row7 col2\" >1,069</td>\n",
       "      <td id=\"T_13a48_row7_col3\" class=\"data row7 col3\" >3.44%</td>\n",
       "      <td id=\"T_13a48_row7_col4\" class=\"data row7 col4\" >29,914</td>\n",
       "      <td id=\"T_13a48_row7_col5\" class=\"data row7 col5\" >96.21%</td>\n",
       "    </tr>\n",
       "    <tr>\n",
       "      <th id=\"T_13a48_level0_row8\" class=\"row_heading level0 row8\" >8</th>\n",
       "      <td id=\"T_13a48_row8_col0\" class=\"data row8 col0\" >1</td>\n",
       "      <td id=\"T_13a48_row8_col1\" class=\"data row8 col1\" >E</td>\n",
       "      <td id=\"T_13a48_row8_col2\" class=\"data row8 col2\" >590</td>\n",
       "      <td id=\"T_13a48_row8_col3\" class=\"data row8 col3\" >1.90%</td>\n",
       "      <td id=\"T_13a48_row8_col4\" class=\"data row8 col4\" >30,504</td>\n",
       "      <td id=\"T_13a48_row8_col5\" class=\"data row8 col5\" >98.10%</td>\n",
       "    </tr>\n",
       "    <tr>\n",
       "      <th id=\"T_13a48_level0_row9\" class=\"row_heading level0 row9\" >9</th>\n",
       "      <td id=\"T_13a48_row9_col0\" class=\"data row9 col0\" >0</td>\n",
       "      <td id=\"T_13a48_row9_col1\" class=\"data row9 col1\" >E</td>\n",
       "      <td id=\"T_13a48_row9_col2\" class=\"data row9 col2\" >309</td>\n",
       "      <td id=\"T_13a48_row9_col3\" class=\"data row9 col3\" >0.99%</td>\n",
       "      <td id=\"T_13a48_row9_col4\" class=\"data row9 col4\" >30,813</td>\n",
       "      <td id=\"T_13a48_row9_col5\" class=\"data row9 col5\" >99.10%</td>\n",
       "    </tr>\n",
       "    <tr>\n",
       "      <th id=\"T_13a48_level0_row10\" class=\"row_heading level0 row10\" >10</th>\n",
       "      <td id=\"T_13a48_row10_col0\" class=\"data row10 col0\" >1</td>\n",
       "      <td id=\"T_13a48_row10_col1\" class=\"data row10 col1\" >F</td>\n",
       "      <td id=\"T_13a48_row10_col2\" class=\"data row10 col2\" >159</td>\n",
       "      <td id=\"T_13a48_row10_col3\" class=\"data row10 col3\" >0.51%</td>\n",
       "      <td id=\"T_13a48_row10_col4\" class=\"data row10 col4\" >30,972</td>\n",
       "      <td id=\"T_13a48_row10_col5\" class=\"data row10 col5\" >99.61%</td>\n",
       "    </tr>\n",
       "    <tr>\n",
       "      <th id=\"T_13a48_level0_row11\" class=\"row_heading level0 row11\" >11</th>\n",
       "      <td id=\"T_13a48_row11_col0\" class=\"data row11 col0\" >0</td>\n",
       "      <td id=\"T_13a48_row11_col1\" class=\"data row11 col1\" >F</td>\n",
       "      <td id=\"T_13a48_row11_col2\" class=\"data row11 col2\" >62</td>\n",
       "      <td id=\"T_13a48_row11_col3\" class=\"data row11 col3\" >0.20%</td>\n",
       "      <td id=\"T_13a48_row11_col4\" class=\"data row11 col4\" >31,034</td>\n",
       "      <td id=\"T_13a48_row11_col5\" class=\"data row11 col5\" >99.81%</td>\n",
       "    </tr>\n",
       "    <tr>\n",
       "      <th id=\"T_13a48_level0_row12\" class=\"row_heading level0 row12\" >12</th>\n",
       "      <td id=\"T_13a48_row12_col0\" class=\"data row12 col0\" >1</td>\n",
       "      <td id=\"T_13a48_row12_col1\" class=\"data row12 col1\" >G</td>\n",
       "      <td id=\"T_13a48_row12_col2\" class=\"data row12 col2\" >59</td>\n",
       "      <td id=\"T_13a48_row12_col3\" class=\"data row12 col3\" >0.19%</td>\n",
       "      <td id=\"T_13a48_row12_col4\" class=\"data row12 col4\" >31,093</td>\n",
       "      <td id=\"T_13a48_row12_col5\" class=\"data row12 col5\" >100.00%</td>\n",
       "    </tr>\n",
       "    <tr>\n",
       "      <th id=\"T_13a48_level0_row13\" class=\"row_heading level0 row13\" >13</th>\n",
       "      <td id=\"T_13a48_row13_col0\" class=\"data row13 col0\" >0</td>\n",
       "      <td id=\"T_13a48_row13_col1\" class=\"data row13 col1\" >G</td>\n",
       "      <td id=\"T_13a48_row13_col2\" class=\"data row13 col2\" >1</td>\n",
       "      <td id=\"T_13a48_row13_col3\" class=\"data row13 col3\" >0.00%</td>\n",
       "      <td id=\"T_13a48_row13_col4\" class=\"data row13 col4\" >31,094</td>\n",
       "      <td id=\"T_13a48_row13_col5\" class=\"data row13 col5\" >100.00%</td>\n",
       "    </tr>\n",
       "  </tbody>\n",
       "</table>\n"
      ],
      "text/plain": [
       "<pandas.io.formats.style.Styler at 0x21e55b58640>"
      ]
     },
     "execution_count": 22,
     "metadata": {},
     "output_type": "execute_result"
    }
   ],
   "source": [
    "df.stb.freq(['loan_status','loan_grade'], style=True)"
   ]
  },
  {
   "cell_type": "markdown",
   "id": "687e2001",
   "metadata": {},
   "source": [
    "### Verificado que não temos informação exata de como tratar a grade do empréstimo e não possuí uma influência no empréstimo, tendo em vista que mais de 33% são da grade A, porém apenas pouco mais de 3% do empréstimos solicitados para a grade A são aceitos."
   ]
  },
  {
   "cell_type": "code",
   "execution_count": 23,
   "id": "f9c53f25",
   "metadata": {},
   "outputs": [],
   "source": [
    "# excluindo a coluna de grade\n",
    "df = df.drop('loan_grade',axis=1)"
   ]
  },
  {
   "cell_type": "code",
   "execution_count": 24,
   "id": "ed779982",
   "metadata": {},
   "outputs": [
    {
     "data": {
      "text/html": [
       "<style type=\"text/css\">\n",
       "</style>\n",
       "<table id=\"T_a3597\">\n",
       "  <thead>\n",
       "    <tr>\n",
       "      <th class=\"blank level0\" >&nbsp;</th>\n",
       "      <th id=\"T_a3597_level0_col0\" class=\"col_heading level0 col0\" >cb_person_default_on_file</th>\n",
       "      <th id=\"T_a3597_level0_col1\" class=\"col_heading level0 col1\" >count</th>\n",
       "      <th id=\"T_a3597_level0_col2\" class=\"col_heading level0 col2\" >percent</th>\n",
       "      <th id=\"T_a3597_level0_col3\" class=\"col_heading level0 col3\" >cumulative_count</th>\n",
       "      <th id=\"T_a3597_level0_col4\" class=\"col_heading level0 col4\" >cumulative_percent</th>\n",
       "    </tr>\n",
       "  </thead>\n",
       "  <tbody>\n",
       "    <tr>\n",
       "      <th id=\"T_a3597_level0_row0\" class=\"row_heading level0 row0\" >0</th>\n",
       "      <td id=\"T_a3597_row0_col0\" class=\"data row0 col0\" >N</td>\n",
       "      <td id=\"T_a3597_row0_col1\" class=\"data row0 col1\" >25,624</td>\n",
       "      <td id=\"T_a3597_row0_col2\" class=\"data row0 col2\" >82.41%</td>\n",
       "      <td id=\"T_a3597_row0_col3\" class=\"data row0 col3\" >25,624</td>\n",
       "      <td id=\"T_a3597_row0_col4\" class=\"data row0 col4\" >82.41%</td>\n",
       "    </tr>\n",
       "    <tr>\n",
       "      <th id=\"T_a3597_level0_row1\" class=\"row_heading level0 row1\" >1</th>\n",
       "      <td id=\"T_a3597_row1_col0\" class=\"data row1 col0\" >Y</td>\n",
       "      <td id=\"T_a3597_row1_col1\" class=\"data row1 col1\" >5,470</td>\n",
       "      <td id=\"T_a3597_row1_col2\" class=\"data row1 col2\" >17.59%</td>\n",
       "      <td id=\"T_a3597_row1_col3\" class=\"data row1 col3\" >31,094</td>\n",
       "      <td id=\"T_a3597_row1_col4\" class=\"data row1 col4\" >100.00%</td>\n",
       "    </tr>\n",
       "  </tbody>\n",
       "</table>\n"
      ],
      "text/plain": [
       "<pandas.io.formats.style.Styler at 0x21e55b589a0>"
      ]
     },
     "execution_count": 24,
     "metadata": {},
     "output_type": "execute_result"
    }
   ],
   "source": [
    "df.stb.freq(['cb_person_default_on_file'], style=True)"
   ]
  },
  {
   "cell_type": "code",
   "execution_count": 25,
   "id": "468ad50d",
   "metadata": {},
   "outputs": [
    {
     "data": {
      "text/html": [
       "<style type=\"text/css\">\n",
       "</style>\n",
       "<table id=\"T_e3fd6\">\n",
       "  <thead>\n",
       "    <tr>\n",
       "      <th class=\"blank level0\" >&nbsp;</th>\n",
       "      <th id=\"T_e3fd6_level0_col0\" class=\"col_heading level0 col0\" >loan_status</th>\n",
       "      <th id=\"T_e3fd6_level0_col1\" class=\"col_heading level0 col1\" >cb_person_default_on_file</th>\n",
       "      <th id=\"T_e3fd6_level0_col2\" class=\"col_heading level0 col2\" >count</th>\n",
       "      <th id=\"T_e3fd6_level0_col3\" class=\"col_heading level0 col3\" >percent</th>\n",
       "      <th id=\"T_e3fd6_level0_col4\" class=\"col_heading level0 col4\" >cumulative_count</th>\n",
       "      <th id=\"T_e3fd6_level0_col5\" class=\"col_heading level0 col5\" >cumulative_percent</th>\n",
       "    </tr>\n",
       "  </thead>\n",
       "  <tbody>\n",
       "    <tr>\n",
       "      <th id=\"T_e3fd6_level0_row0\" class=\"row_heading level0 row0\" >0</th>\n",
       "      <td id=\"T_e3fd6_row0_col0\" class=\"data row0 col0\" >0</td>\n",
       "      <td id=\"T_e3fd6_row0_col1\" class=\"data row0 col1\" >N</td>\n",
       "      <td id=\"T_e3fd6_row0_col2\" class=\"data row0 col2\" >20,772</td>\n",
       "      <td id=\"T_e3fd6_row0_col3\" class=\"data row0 col3\" >66.80%</td>\n",
       "      <td id=\"T_e3fd6_row0_col4\" class=\"data row0 col4\" >20,772</td>\n",
       "      <td id=\"T_e3fd6_row0_col5\" class=\"data row0 col5\" >66.80%</td>\n",
       "    </tr>\n",
       "    <tr>\n",
       "      <th id=\"T_e3fd6_level0_row1\" class=\"row_heading level0 row1\" >1</th>\n",
       "      <td id=\"T_e3fd6_row1_col0\" class=\"data row1 col0\" >1</td>\n",
       "      <td id=\"T_e3fd6_row1_col1\" class=\"data row1 col1\" >N</td>\n",
       "      <td id=\"T_e3fd6_row1_col2\" class=\"data row1 col2\" >4,852</td>\n",
       "      <td id=\"T_e3fd6_row1_col3\" class=\"data row1 col3\" >15.60%</td>\n",
       "      <td id=\"T_e3fd6_row1_col4\" class=\"data row1 col4\" >25,624</td>\n",
       "      <td id=\"T_e3fd6_row1_col5\" class=\"data row1 col5\" >82.41%</td>\n",
       "    </tr>\n",
       "    <tr>\n",
       "      <th id=\"T_e3fd6_level0_row2\" class=\"row_heading level0 row2\" >2</th>\n",
       "      <td id=\"T_e3fd6_row2_col0\" class=\"data row2 col0\" >0</td>\n",
       "      <td id=\"T_e3fd6_row2_col1\" class=\"data row2 col1\" >Y</td>\n",
       "      <td id=\"T_e3fd6_row2_col2\" class=\"data row2 col2\" >3,360</td>\n",
       "      <td id=\"T_e3fd6_row2_col3\" class=\"data row2 col3\" >10.81%</td>\n",
       "      <td id=\"T_e3fd6_row2_col4\" class=\"data row2 col4\" >28,984</td>\n",
       "      <td id=\"T_e3fd6_row2_col5\" class=\"data row2 col5\" >93.21%</td>\n",
       "    </tr>\n",
       "    <tr>\n",
       "      <th id=\"T_e3fd6_level0_row3\" class=\"row_heading level0 row3\" >3</th>\n",
       "      <td id=\"T_e3fd6_row3_col0\" class=\"data row3 col0\" >1</td>\n",
       "      <td id=\"T_e3fd6_row3_col1\" class=\"data row3 col1\" >Y</td>\n",
       "      <td id=\"T_e3fd6_row3_col2\" class=\"data row3 col2\" >2,110</td>\n",
       "      <td id=\"T_e3fd6_row3_col3\" class=\"data row3 col3\" >6.79%</td>\n",
       "      <td id=\"T_e3fd6_row3_col4\" class=\"data row3 col4\" >31,094</td>\n",
       "      <td id=\"T_e3fd6_row3_col5\" class=\"data row3 col5\" >100.00%</td>\n",
       "    </tr>\n",
       "  </tbody>\n",
       "</table>\n"
      ],
      "text/plain": [
       "<pandas.io.formats.style.Styler at 0x21e5577e290>"
      ]
     },
     "execution_count": 25,
     "metadata": {},
     "output_type": "execute_result"
    }
   ],
   "source": [
    "df.stb.freq(['loan_status','cb_person_default_on_file'], style=True)"
   ]
  },
  {
   "cell_type": "markdown",
   "id": "0bbda7f2",
   "metadata": {},
   "source": [
    "### Verificado que a feature cb_person_default_on_file parece influenciar na decisão do empréstimo, pois apenas 15% das pessoas que não tem histórico conseguiu empréstimo"
   ]
  },
  {
   "cell_type": "markdown",
   "id": "d8ae2889",
   "metadata": {},
   "source": [
    "### Separando as features de X e y"
   ]
  },
  {
   "cell_type": "code",
   "execution_count": 26,
   "id": "5247fb69",
   "metadata": {},
   "outputs": [],
   "source": [
    "X = df.drop('loan_status',axis=1)\n",
    "y = df['loan_status']"
   ]
  },
  {
   "cell_type": "code",
   "execution_count": 27,
   "id": "c3e7a061",
   "metadata": {},
   "outputs": [],
   "source": [
    "X_train, X_test, y_train, y_test = train_test_split(X, y, test_size=0.3, random_state=999)"
   ]
  },
  {
   "cell_type": "markdown",
   "id": "c2d7b0a4",
   "metadata": {},
   "source": [
    "### Tratando missing do X_train"
   ]
  },
  {
   "cell_type": "code",
   "execution_count": 28,
   "id": "e970d894",
   "metadata": {
    "scrolled": true
   },
   "outputs": [
    {
     "data": {
      "text/html": [
       "<style type=\"text/css\">\n",
       "</style>\n",
       "<table id=\"T_3131e\">\n",
       "  <thead>\n",
       "    <tr>\n",
       "      <th class=\"blank level0\" >&nbsp;</th>\n",
       "      <th id=\"T_3131e_level0_col0\" class=\"col_heading level0 col0\" >missing</th>\n",
       "      <th id=\"T_3131e_level0_col1\" class=\"col_heading level0 col1\" >total</th>\n",
       "      <th id=\"T_3131e_level0_col2\" class=\"col_heading level0 col2\" >percent</th>\n",
       "    </tr>\n",
       "  </thead>\n",
       "  <tbody>\n",
       "    <tr>\n",
       "      <th id=\"T_3131e_level0_row0\" class=\"row_heading level0 row0\" >loan_int_rate</th>\n",
       "      <td id=\"T_3131e_row0_col0\" class=\"data row0 col0\" >2,076</td>\n",
       "      <td id=\"T_3131e_row0_col1\" class=\"data row0 col1\" >21,765</td>\n",
       "      <td id=\"T_3131e_row0_col2\" class=\"data row0 col2\" >9.54%</td>\n",
       "    </tr>\n",
       "    <tr>\n",
       "      <th id=\"T_3131e_level0_row1\" class=\"row_heading level0 row1\" >person_emp_length</th>\n",
       "      <td id=\"T_3131e_row1_col0\" class=\"data row1 col0\" >622</td>\n",
       "      <td id=\"T_3131e_row1_col1\" class=\"data row1 col1\" >21,765</td>\n",
       "      <td id=\"T_3131e_row1_col2\" class=\"data row1 col2\" >2.86%</td>\n",
       "    </tr>\n",
       "    <tr>\n",
       "      <th id=\"T_3131e_level0_row2\" class=\"row_heading level0 row2\" >person_age</th>\n",
       "      <td id=\"T_3131e_row2_col0\" class=\"data row2 col0\" >0</td>\n",
       "      <td id=\"T_3131e_row2_col1\" class=\"data row2 col1\" >21,765</td>\n",
       "      <td id=\"T_3131e_row2_col2\" class=\"data row2 col2\" >0.00%</td>\n",
       "    </tr>\n",
       "    <tr>\n",
       "      <th id=\"T_3131e_level0_row3\" class=\"row_heading level0 row3\" >person_income</th>\n",
       "      <td id=\"T_3131e_row3_col0\" class=\"data row3 col0\" >0</td>\n",
       "      <td id=\"T_3131e_row3_col1\" class=\"data row3 col1\" >21,765</td>\n",
       "      <td id=\"T_3131e_row3_col2\" class=\"data row3 col2\" >0.00%</td>\n",
       "    </tr>\n",
       "    <tr>\n",
       "      <th id=\"T_3131e_level0_row4\" class=\"row_heading level0 row4\" >person_home_ownership</th>\n",
       "      <td id=\"T_3131e_row4_col0\" class=\"data row4 col0\" >0</td>\n",
       "      <td id=\"T_3131e_row4_col1\" class=\"data row4 col1\" >21,765</td>\n",
       "      <td id=\"T_3131e_row4_col2\" class=\"data row4 col2\" >0.00%</td>\n",
       "    </tr>\n",
       "    <tr>\n",
       "      <th id=\"T_3131e_level0_row5\" class=\"row_heading level0 row5\" >loan_intent</th>\n",
       "      <td id=\"T_3131e_row5_col0\" class=\"data row5 col0\" >0</td>\n",
       "      <td id=\"T_3131e_row5_col1\" class=\"data row5 col1\" >21,765</td>\n",
       "      <td id=\"T_3131e_row5_col2\" class=\"data row5 col2\" >0.00%</td>\n",
       "    </tr>\n",
       "    <tr>\n",
       "      <th id=\"T_3131e_level0_row6\" class=\"row_heading level0 row6\" >loan_amnt</th>\n",
       "      <td id=\"T_3131e_row6_col0\" class=\"data row6 col0\" >0</td>\n",
       "      <td id=\"T_3131e_row6_col1\" class=\"data row6 col1\" >21,765</td>\n",
       "      <td id=\"T_3131e_row6_col2\" class=\"data row6 col2\" >0.00%</td>\n",
       "    </tr>\n",
       "    <tr>\n",
       "      <th id=\"T_3131e_level0_row7\" class=\"row_heading level0 row7\" >loan_percent_income</th>\n",
       "      <td id=\"T_3131e_row7_col0\" class=\"data row7 col0\" >0</td>\n",
       "      <td id=\"T_3131e_row7_col1\" class=\"data row7 col1\" >21,765</td>\n",
       "      <td id=\"T_3131e_row7_col2\" class=\"data row7 col2\" >0.00%</td>\n",
       "    </tr>\n",
       "    <tr>\n",
       "      <th id=\"T_3131e_level0_row8\" class=\"row_heading level0 row8\" >cb_person_default_on_file</th>\n",
       "      <td id=\"T_3131e_row8_col0\" class=\"data row8 col0\" >0</td>\n",
       "      <td id=\"T_3131e_row8_col1\" class=\"data row8 col1\" >21,765</td>\n",
       "      <td id=\"T_3131e_row8_col2\" class=\"data row8 col2\" >0.00%</td>\n",
       "    </tr>\n",
       "  </tbody>\n",
       "</table>\n"
      ],
      "text/plain": [
       "<pandas.io.formats.style.Styler at 0x21e55b5b4c0>"
      ]
     },
     "execution_count": 28,
     "metadata": {},
     "output_type": "execute_result"
    }
   ],
   "source": [
    "X_train.stb.missing(style=True)"
   ]
  },
  {
   "cell_type": "code",
   "execution_count": 29,
   "id": "b4d8470d",
   "metadata": {},
   "outputs": [
    {
     "name": "stdout",
     "output_type": "stream",
     "text": [
      "10.986465031235715\n",
      "10.99\n"
     ]
    }
   ],
   "source": [
    "print(X_train['loan_int_rate'].mean())\n",
    "print(X_train['loan_int_rate'].median())"
   ]
  },
  {
   "cell_type": "code",
   "execution_count": 30,
   "id": "c64689e8",
   "metadata": {},
   "outputs": [],
   "source": [
    "X_train['loan_int_rate'] = X_train['loan_int_rate'].fillna(X_train['loan_int_rate'].median())"
   ]
  },
  {
   "cell_type": "code",
   "execution_count": 31,
   "id": "85eca8cb",
   "metadata": {
    "scrolled": true
   },
   "outputs": [
    {
     "name": "stdout",
     "output_type": "stream",
     "text": [
      "4.712008702643901\n",
      "4.0\n"
     ]
    }
   ],
   "source": [
    "print(X_train['person_emp_length'].mean())\n",
    "print(X_train['person_emp_length'].median())"
   ]
  },
  {
   "cell_type": "code",
   "execution_count": 32,
   "id": "23c86e4b",
   "metadata": {},
   "outputs": [],
   "source": [
    "X_train['person_emp_length'] = X_train['person_emp_length'].fillna(X_train['person_emp_length'].median())"
   ]
  },
  {
   "cell_type": "markdown",
   "id": "842beb9b",
   "metadata": {},
   "source": [
    "### Transformando em binário a coluna cb_person_default_on_file para treino e teste"
   ]
  },
  {
   "cell_type": "code",
   "execution_count": 33,
   "id": "3c8b707a",
   "metadata": {},
   "outputs": [],
   "source": [
    "X_train['default_history'] = np.where(X_train['cb_person_default_on_file'] == 'N',0,1)\n",
    "X_test['default_history'] = np.where(X_test['cb_person_default_on_file'] == 'N',0,1)\n",
    "\n",
    "X_train = X_train.drop('cb_person_default_on_file',axis=1)\n",
    "X_test = X_test.drop('cb_person_default_on_file',axis=1)"
   ]
  },
  {
   "cell_type": "markdown",
   "id": "2b588234",
   "metadata": {},
   "source": [
    "### Criando OneHotEncoder para tratar as variáveis categóricas para o treino"
   ]
  },
  {
   "cell_type": "code",
   "execution_count": 34,
   "id": "556147a5",
   "metadata": {},
   "outputs": [],
   "source": [
    "encoder = ce.OneHotEncoder(cols=X_train[['person_home_ownership','loan_intent']])\n",
    "X_train = encoder.fit_transform(X_train)"
   ]
  },
  {
   "cell_type": "code",
   "execution_count": 35,
   "id": "67c6bdbb",
   "metadata": {},
   "outputs": [
    {
     "data": {
      "text/html": [
       "<div>\n",
       "<style scoped>\n",
       "    .dataframe tbody tr th:only-of-type {\n",
       "        vertical-align: middle;\n",
       "    }\n",
       "\n",
       "    .dataframe tbody tr th {\n",
       "        vertical-align: top;\n",
       "    }\n",
       "\n",
       "    .dataframe thead th {\n",
       "        text-align: right;\n",
       "    }\n",
       "</style>\n",
       "<table border=\"1\" class=\"dataframe\">\n",
       "  <thead>\n",
       "    <tr style=\"text-align: right;\">\n",
       "      <th></th>\n",
       "      <th>person_age</th>\n",
       "      <th>person_income</th>\n",
       "      <th>person_home_ownership_1</th>\n",
       "      <th>person_home_ownership_2</th>\n",
       "      <th>person_home_ownership_3</th>\n",
       "      <th>person_home_ownership_4</th>\n",
       "      <th>person_emp_length</th>\n",
       "      <th>loan_intent_1</th>\n",
       "      <th>loan_intent_2</th>\n",
       "      <th>loan_intent_3</th>\n",
       "      <th>loan_intent_4</th>\n",
       "      <th>loan_intent_5</th>\n",
       "      <th>loan_intent_6</th>\n",
       "      <th>loan_amnt</th>\n",
       "      <th>loan_int_rate</th>\n",
       "      <th>loan_percent_income</th>\n",
       "      <th>default_history</th>\n",
       "    </tr>\n",
       "  </thead>\n",
       "  <tbody>\n",
       "    <tr>\n",
       "      <th>19167</th>\n",
       "      <td>34</td>\n",
       "      <td>42000</td>\n",
       "      <td>1</td>\n",
       "      <td>0</td>\n",
       "      <td>0</td>\n",
       "      <td>0</td>\n",
       "      <td>3.0</td>\n",
       "      <td>1</td>\n",
       "      <td>0</td>\n",
       "      <td>0</td>\n",
       "      <td>0</td>\n",
       "      <td>0</td>\n",
       "      <td>0</td>\n",
       "      <td>2400</td>\n",
       "      <td>13.80</td>\n",
       "      <td>0.06</td>\n",
       "      <td>1</td>\n",
       "    </tr>\n",
       "    <tr>\n",
       "      <th>26379</th>\n",
       "      <td>35</td>\n",
       "      <td>30000</td>\n",
       "      <td>1</td>\n",
       "      <td>0</td>\n",
       "      <td>0</td>\n",
       "      <td>0</td>\n",
       "      <td>4.0</td>\n",
       "      <td>0</td>\n",
       "      <td>1</td>\n",
       "      <td>0</td>\n",
       "      <td>0</td>\n",
       "      <td>0</td>\n",
       "      <td>0</td>\n",
       "      <td>14125</td>\n",
       "      <td>12.99</td>\n",
       "      <td>0.47</td>\n",
       "      <td>1</td>\n",
       "    </tr>\n",
       "    <tr>\n",
       "      <th>28685</th>\n",
       "      <td>28</td>\n",
       "      <td>68004</td>\n",
       "      <td>1</td>\n",
       "      <td>0</td>\n",
       "      <td>0</td>\n",
       "      <td>0</td>\n",
       "      <td>1.0</td>\n",
       "      <td>0</td>\n",
       "      <td>0</td>\n",
       "      <td>1</td>\n",
       "      <td>0</td>\n",
       "      <td>0</td>\n",
       "      <td>0</td>\n",
       "      <td>15000</td>\n",
       "      <td>13.16</td>\n",
       "      <td>0.22</td>\n",
       "      <td>1</td>\n",
       "    </tr>\n",
       "  </tbody>\n",
       "</table>\n",
       "</div>"
      ],
      "text/plain": [
       "       person_age  person_income  person_home_ownership_1  \\\n",
       "19167          34          42000                        1   \n",
       "26379          35          30000                        1   \n",
       "28685          28          68004                        1   \n",
       "\n",
       "       person_home_ownership_2  person_home_ownership_3  \\\n",
       "19167                        0                        0   \n",
       "26379                        0                        0   \n",
       "28685                        0                        0   \n",
       "\n",
       "       person_home_ownership_4  person_emp_length  loan_intent_1  \\\n",
       "19167                        0                3.0              1   \n",
       "26379                        0                4.0              0   \n",
       "28685                        0                1.0              0   \n",
       "\n",
       "       loan_intent_2  loan_intent_3  loan_intent_4  loan_intent_5  \\\n",
       "19167              0              0              0              0   \n",
       "26379              1              0              0              0   \n",
       "28685              0              1              0              0   \n",
       "\n",
       "       loan_intent_6  loan_amnt  loan_int_rate  loan_percent_income  \\\n",
       "19167              0       2400          13.80                 0.06   \n",
       "26379              0      14125          12.99                 0.47   \n",
       "28685              0      15000          13.16                 0.22   \n",
       "\n",
       "       default_history  \n",
       "19167                1  \n",
       "26379                1  \n",
       "28685                1  "
      ]
     },
     "execution_count": 35,
     "metadata": {},
     "output_type": "execute_result"
    }
   ],
   "source": [
    "X_train.head(3)"
   ]
  },
  {
   "cell_type": "markdown",
   "id": "88f8bb43",
   "metadata": {},
   "source": [
    "### Tratando missing do X_test"
   ]
  },
  {
   "cell_type": "code",
   "execution_count": 36,
   "id": "24d6e035",
   "metadata": {},
   "outputs": [
    {
     "data": {
      "text/html": [
       "<style type=\"text/css\">\n",
       "</style>\n",
       "<table id=\"T_5af95\">\n",
       "  <thead>\n",
       "    <tr>\n",
       "      <th class=\"blank level0\" >&nbsp;</th>\n",
       "      <th id=\"T_5af95_level0_col0\" class=\"col_heading level0 col0\" >missing</th>\n",
       "      <th id=\"T_5af95_level0_col1\" class=\"col_heading level0 col1\" >total</th>\n",
       "      <th id=\"T_5af95_level0_col2\" class=\"col_heading level0 col2\" >percent</th>\n",
       "    </tr>\n",
       "  </thead>\n",
       "  <tbody>\n",
       "    <tr>\n",
       "      <th id=\"T_5af95_level0_row0\" class=\"row_heading level0 row0\" >loan_int_rate</th>\n",
       "      <td id=\"T_5af95_row0_col0\" class=\"data row0 col0\" >901</td>\n",
       "      <td id=\"T_5af95_row0_col1\" class=\"data row0 col1\" >9,329</td>\n",
       "      <td id=\"T_5af95_row0_col2\" class=\"data row0 col2\" >9.66%</td>\n",
       "    </tr>\n",
       "    <tr>\n",
       "      <th id=\"T_5af95_level0_row1\" class=\"row_heading level0 row1\" >person_emp_length</th>\n",
       "      <td id=\"T_5af95_row1_col0\" class=\"data row1 col0\" >259</td>\n",
       "      <td id=\"T_5af95_row1_col1\" class=\"data row1 col1\" >9,329</td>\n",
       "      <td id=\"T_5af95_row1_col2\" class=\"data row1 col2\" >2.78%</td>\n",
       "    </tr>\n",
       "    <tr>\n",
       "      <th id=\"T_5af95_level0_row2\" class=\"row_heading level0 row2\" >person_age</th>\n",
       "      <td id=\"T_5af95_row2_col0\" class=\"data row2 col0\" >0</td>\n",
       "      <td id=\"T_5af95_row2_col1\" class=\"data row2 col1\" >9,329</td>\n",
       "      <td id=\"T_5af95_row2_col2\" class=\"data row2 col2\" >0.00%</td>\n",
       "    </tr>\n",
       "    <tr>\n",
       "      <th id=\"T_5af95_level0_row3\" class=\"row_heading level0 row3\" >person_income</th>\n",
       "      <td id=\"T_5af95_row3_col0\" class=\"data row3 col0\" >0</td>\n",
       "      <td id=\"T_5af95_row3_col1\" class=\"data row3 col1\" >9,329</td>\n",
       "      <td id=\"T_5af95_row3_col2\" class=\"data row3 col2\" >0.00%</td>\n",
       "    </tr>\n",
       "    <tr>\n",
       "      <th id=\"T_5af95_level0_row4\" class=\"row_heading level0 row4\" >person_home_ownership</th>\n",
       "      <td id=\"T_5af95_row4_col0\" class=\"data row4 col0\" >0</td>\n",
       "      <td id=\"T_5af95_row4_col1\" class=\"data row4 col1\" >9,329</td>\n",
       "      <td id=\"T_5af95_row4_col2\" class=\"data row4 col2\" >0.00%</td>\n",
       "    </tr>\n",
       "    <tr>\n",
       "      <th id=\"T_5af95_level0_row5\" class=\"row_heading level0 row5\" >loan_intent</th>\n",
       "      <td id=\"T_5af95_row5_col0\" class=\"data row5 col0\" >0</td>\n",
       "      <td id=\"T_5af95_row5_col1\" class=\"data row5 col1\" >9,329</td>\n",
       "      <td id=\"T_5af95_row5_col2\" class=\"data row5 col2\" >0.00%</td>\n",
       "    </tr>\n",
       "    <tr>\n",
       "      <th id=\"T_5af95_level0_row6\" class=\"row_heading level0 row6\" >loan_amnt</th>\n",
       "      <td id=\"T_5af95_row6_col0\" class=\"data row6 col0\" >0</td>\n",
       "      <td id=\"T_5af95_row6_col1\" class=\"data row6 col1\" >9,329</td>\n",
       "      <td id=\"T_5af95_row6_col2\" class=\"data row6 col2\" >0.00%</td>\n",
       "    </tr>\n",
       "    <tr>\n",
       "      <th id=\"T_5af95_level0_row7\" class=\"row_heading level0 row7\" >loan_percent_income</th>\n",
       "      <td id=\"T_5af95_row7_col0\" class=\"data row7 col0\" >0</td>\n",
       "      <td id=\"T_5af95_row7_col1\" class=\"data row7 col1\" >9,329</td>\n",
       "      <td id=\"T_5af95_row7_col2\" class=\"data row7 col2\" >0.00%</td>\n",
       "    </tr>\n",
       "    <tr>\n",
       "      <th id=\"T_5af95_level0_row8\" class=\"row_heading level0 row8\" >default_history</th>\n",
       "      <td id=\"T_5af95_row8_col0\" class=\"data row8 col0\" >0</td>\n",
       "      <td id=\"T_5af95_row8_col1\" class=\"data row8 col1\" >9,329</td>\n",
       "      <td id=\"T_5af95_row8_col2\" class=\"data row8 col2\" >0.00%</td>\n",
       "    </tr>\n",
       "  </tbody>\n",
       "</table>\n"
      ],
      "text/plain": [
       "<pandas.io.formats.style.Styler at 0x21e5577f070>"
      ]
     },
     "execution_count": 36,
     "metadata": {},
     "output_type": "execute_result"
    }
   ],
   "source": [
    "X_test.stb.missing(style=True)"
   ]
  },
  {
   "cell_type": "code",
   "execution_count": 37,
   "id": "d6022066",
   "metadata": {},
   "outputs": [
    {
     "name": "stdout",
     "output_type": "stream",
     "text": [
      "11.017880873279546\n",
      "10.99\n"
     ]
    }
   ],
   "source": [
    "print(X_test['loan_int_rate'].mean())\n",
    "print(X_test['loan_int_rate'].median())"
   ]
  },
  {
   "cell_type": "code",
   "execution_count": 38,
   "id": "4402802e",
   "metadata": {},
   "outputs": [],
   "source": [
    "X_test['loan_int_rate'] = X_test['loan_int_rate'].fillna(X_test['loan_int_rate'].median())"
   ]
  },
  {
   "cell_type": "code",
   "execution_count": 39,
   "id": "ab280d98",
   "metadata": {},
   "outputs": [
    {
     "name": "stdout",
     "output_type": "stream",
     "text": [
      "4.686108048511577\n",
      "4.0\n"
     ]
    }
   ],
   "source": [
    "print(X_test['person_emp_length'].mean())\n",
    "print(X_test['person_emp_length'].median())"
   ]
  },
  {
   "cell_type": "code",
   "execution_count": 40,
   "id": "949ee54c",
   "metadata": {},
   "outputs": [],
   "source": [
    "X_test['person_emp_length'] = X_test['person_emp_length'].fillna(X_test['person_emp_length'].median())"
   ]
  },
  {
   "cell_type": "markdown",
   "id": "e2415b48",
   "metadata": {},
   "source": [
    "### Criando OneHotEncoder para tratar as variáveis categóricas para o teste"
   ]
  },
  {
   "cell_type": "code",
   "execution_count": 41,
   "id": "0f82e99f",
   "metadata": {},
   "outputs": [],
   "source": [
    "X_test = encoder.transform(X_test)"
   ]
  },
  {
   "cell_type": "code",
   "execution_count": 42,
   "id": "e7830c57",
   "metadata": {},
   "outputs": [
    {
     "data": {
      "text/html": [
       "<div>\n",
       "<style scoped>\n",
       "    .dataframe tbody tr th:only-of-type {\n",
       "        vertical-align: middle;\n",
       "    }\n",
       "\n",
       "    .dataframe tbody tr th {\n",
       "        vertical-align: top;\n",
       "    }\n",
       "\n",
       "    .dataframe thead th {\n",
       "        text-align: right;\n",
       "    }\n",
       "</style>\n",
       "<table border=\"1\" class=\"dataframe\">\n",
       "  <thead>\n",
       "    <tr style=\"text-align: right;\">\n",
       "      <th></th>\n",
       "      <th>person_age</th>\n",
       "      <th>person_income</th>\n",
       "      <th>person_home_ownership_1</th>\n",
       "      <th>person_home_ownership_2</th>\n",
       "      <th>person_home_ownership_3</th>\n",
       "      <th>person_home_ownership_4</th>\n",
       "      <th>person_emp_length</th>\n",
       "      <th>loan_intent_1</th>\n",
       "      <th>loan_intent_2</th>\n",
       "      <th>loan_intent_3</th>\n",
       "      <th>loan_intent_4</th>\n",
       "      <th>loan_intent_5</th>\n",
       "      <th>loan_intent_6</th>\n",
       "      <th>loan_amnt</th>\n",
       "      <th>loan_int_rate</th>\n",
       "      <th>loan_percent_income</th>\n",
       "      <th>default_history</th>\n",
       "    </tr>\n",
       "  </thead>\n",
       "  <tbody>\n",
       "    <tr>\n",
       "      <th>5048</th>\n",
       "      <td>23</td>\n",
       "      <td>43200</td>\n",
       "      <td>0</td>\n",
       "      <td>1</td>\n",
       "      <td>0</td>\n",
       "      <td>0</td>\n",
       "      <td>5.0</td>\n",
       "      <td>0</td>\n",
       "      <td>0</td>\n",
       "      <td>0</td>\n",
       "      <td>0</td>\n",
       "      <td>1</td>\n",
       "      <td>0</td>\n",
       "      <td>10000</td>\n",
       "      <td>12.69</td>\n",
       "      <td>0.23</td>\n",
       "      <td>0</td>\n",
       "    </tr>\n",
       "    <tr>\n",
       "      <th>32009</th>\n",
       "      <td>39</td>\n",
       "      <td>40000</td>\n",
       "      <td>1</td>\n",
       "      <td>0</td>\n",
       "      <td>0</td>\n",
       "      <td>0</td>\n",
       "      <td>5.0</td>\n",
       "      <td>0</td>\n",
       "      <td>0</td>\n",
       "      <td>0</td>\n",
       "      <td>1</td>\n",
       "      <td>0</td>\n",
       "      <td>0</td>\n",
       "      <td>6000</td>\n",
       "      <td>14.54</td>\n",
       "      <td>0.15</td>\n",
       "      <td>0</td>\n",
       "    </tr>\n",
       "    <tr>\n",
       "      <th>7898</th>\n",
       "      <td>23</td>\n",
       "      <td>55000</td>\n",
       "      <td>0</td>\n",
       "      <td>1</td>\n",
       "      <td>0</td>\n",
       "      <td>0</td>\n",
       "      <td>7.0</td>\n",
       "      <td>1</td>\n",
       "      <td>0</td>\n",
       "      <td>0</td>\n",
       "      <td>0</td>\n",
       "      <td>0</td>\n",
       "      <td>0</td>\n",
       "      <td>3850</td>\n",
       "      <td>5.42</td>\n",
       "      <td>0.07</td>\n",
       "      <td>0</td>\n",
       "    </tr>\n",
       "  </tbody>\n",
       "</table>\n",
       "</div>"
      ],
      "text/plain": [
       "       person_age  person_income  person_home_ownership_1  \\\n",
       "5048           23          43200                        0   \n",
       "32009          39          40000                        1   \n",
       "7898           23          55000                        0   \n",
       "\n",
       "       person_home_ownership_2  person_home_ownership_3  \\\n",
       "5048                         1                        0   \n",
       "32009                        0                        0   \n",
       "7898                         1                        0   \n",
       "\n",
       "       person_home_ownership_4  person_emp_length  loan_intent_1  \\\n",
       "5048                         0                5.0              0   \n",
       "32009                        0                5.0              0   \n",
       "7898                         0                7.0              1   \n",
       "\n",
       "       loan_intent_2  loan_intent_3  loan_intent_4  loan_intent_5  \\\n",
       "5048               0              0              0              1   \n",
       "32009              0              0              1              0   \n",
       "7898               0              0              0              0   \n",
       "\n",
       "       loan_intent_6  loan_amnt  loan_int_rate  loan_percent_income  \\\n",
       "5048               0      10000          12.69                 0.23   \n",
       "32009              0       6000          14.54                 0.15   \n",
       "7898               0       3850           5.42                 0.07   \n",
       "\n",
       "       default_history  \n",
       "5048                 0  \n",
       "32009                0  \n",
       "7898                 0  "
      ]
     },
     "execution_count": 42,
     "metadata": {},
     "output_type": "execute_result"
    }
   ],
   "source": [
    "X_test.head(3)"
   ]
  },
  {
   "cell_type": "markdown",
   "id": "6b690f8d",
   "metadata": {},
   "source": [
    "### RandomForestClassifier"
   ]
  },
  {
   "cell_type": "code",
   "execution_count": 43,
   "id": "965a1ba6",
   "metadata": {},
   "outputs": [],
   "source": [
    "clf_RF = RandomForestClassifier(random_state=42)\n",
    "clf_RF = clf_RF.fit(X_train, y_train)"
   ]
  },
  {
   "cell_type": "code",
   "execution_count": 44,
   "id": "66c13996",
   "metadata": {},
   "outputs": [],
   "source": [
    "y_pred_RF = clf_RF.predict(X_test)"
   ]
  },
  {
   "cell_type": "code",
   "execution_count": 45,
   "id": "b8abfa08",
   "metadata": {},
   "outputs": [
    {
     "name": "stdout",
     "output_type": "stream",
     "text": [
      "Acurácia: 0.9193911458891628\n",
      "F1 score: 0.7966468361276366\n"
     ]
    }
   ],
   "source": [
    "print(f'Acurácia: {accuracy_score(y_test, y_pred_RF)}')\n",
    "print(f'F1 score: {f1_score(y_test, y_pred_RF)}')"
   ]
  },
  {
   "cell_type": "markdown",
   "id": "44cf5606",
   "metadata": {},
   "source": [
    "### LogisticRegression"
   ]
  },
  {
   "cell_type": "code",
   "execution_count": 46,
   "id": "bacfe325",
   "metadata": {
    "scrolled": true
   },
   "outputs": [],
   "source": [
    "clf_RL = LogisticRegression(random_state=42,max_iter=1000)\n",
    "clf_RL = clf_RL.fit(X_train, y_train)"
   ]
  },
  {
   "cell_type": "code",
   "execution_count": 47,
   "id": "8ef662d9",
   "metadata": {},
   "outputs": [],
   "source": [
    "y_pred_RL = clf_RL.predict(X_test)"
   ]
  },
  {
   "cell_type": "code",
   "execution_count": 48,
   "id": "2f9402e3",
   "metadata": {},
   "outputs": [
    {
     "name": "stdout",
     "output_type": "stream",
     "text": [
      "Acurácia: 0.8011576803515918\n",
      "F1 score: 0.31321732691595705\n"
     ]
    }
   ],
   "source": [
    "print(f'Acurácia: {accuracy_score(y_test, y_pred_RL)}')\n",
    "print(f'F1 score: {f1_score(y_test, y_pred_RL)}')"
   ]
  },
  {
   "cell_type": "markdown",
   "id": "b403fdd4",
   "metadata": {},
   "source": [
    "### DecisionTreeClassifier"
   ]
  },
  {
   "cell_type": "code",
   "execution_count": 49,
   "id": "46ab912b",
   "metadata": {},
   "outputs": [],
   "source": [
    "clf_DT = tree.DecisionTreeClassifier(random_state=42)\n",
    "clf_DT = clf_DT.fit(X_train, y_train)"
   ]
  },
  {
   "cell_type": "code",
   "execution_count": 50,
   "id": "2b55b785",
   "metadata": {},
   "outputs": [],
   "source": [
    "y_pred_DT = clf_DT.predict(X_test)"
   ]
  },
  {
   "cell_type": "code",
   "execution_count": 51,
   "id": "7ae23c12",
   "metadata": {},
   "outputs": [
    {
     "name": "stdout",
     "output_type": "stream",
     "text": [
      "Acurácia: 0.877907599957123\n",
      "F1 score: 0.738100712807542\n"
     ]
    }
   ],
   "source": [
    "print(f'Acurácia: {accuracy_score(y_test, y_pred_DT)}')\n",
    "print(f'F1 score: {f1_score(y_test, y_pred_DT)}')"
   ]
  },
  {
   "cell_type": "markdown",
   "id": "40ba7950",
   "metadata": {},
   "source": [
    "### KNeighborsClassifier"
   ]
  },
  {
   "cell_type": "code",
   "execution_count": 52,
   "id": "0b45a730",
   "metadata": {},
   "outputs": [],
   "source": [
    "clf_KNN = KNeighborsClassifier(n_neighbors=3)\n",
    "clf_KNN = clf_KNN.fit(X_train, y_train)"
   ]
  },
  {
   "cell_type": "code",
   "execution_count": 53,
   "id": "8dd6261d",
   "metadata": {},
   "outputs": [],
   "source": [
    "y_pred_KNN = clf_KNN.predict(X_test)"
   ]
  },
  {
   "cell_type": "code",
   "execution_count": 54,
   "id": "657cbd05",
   "metadata": {
    "scrolled": true
   },
   "outputs": [
    {
     "name": "stdout",
     "output_type": "stream",
     "text": [
      "Acurácia: 0.822381820130775\n",
      "F1 score: 0.5763231909997443\n"
     ]
    }
   ],
   "source": [
    "print(f'Acurácia: {accuracy_score(y_test, y_pred_KNN)}')\n",
    "print(f'F1 score: {f1_score(y_test, y_pred_KNN)}')"
   ]
  }
 ],
 "metadata": {
  "kernelspec": {
   "display_name": "Python 3 (ipykernel)",
   "language": "python",
   "name": "python3"
  },
  "language_info": {
   "codemirror_mode": {
    "name": "ipython",
    "version": 3
   },
   "file_extension": ".py",
   "mimetype": "text/x-python",
   "name": "python",
   "nbconvert_exporter": "python",
   "pygments_lexer": "ipython3",
   "version": "3.10.9"
  }
 },
 "nbformat": 4,
 "nbformat_minor": 5
}
